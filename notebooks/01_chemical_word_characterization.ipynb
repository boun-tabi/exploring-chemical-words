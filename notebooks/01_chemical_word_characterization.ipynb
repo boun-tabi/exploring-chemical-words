{
 "cells": [
  {
   "cell_type": "markdown",
   "metadata": {},
   "source": [
    "# Chemical Word Characterization \n",
    "\n",
    "In this notebook, we will conduct several analyses to characterize chemical words. The analyses include \n",
    "- computing frequencies of these words in BDB dataset [1], and its subsets comprising only strong binders (i.e. having affinity > 7) and weak binders (i.e. having affinity < 7), \n",
    "- identifying chemical words exclusive to strong and weak binders sets, \n",
    "- finding valid chemical words inside the vocabulary, "
   ]
  },
  {
   "cell_type": "markdown",
   "metadata": {},
   "source": [
    "## Importing Libraries & Data "
   ]
  },
  {
   "cell_type": "code",
   "execution_count": 1,
   "metadata": {},
   "outputs": [
    {
     "name": "stdout",
     "output_type": "stream",
     "text": [
      "Requirement already satisfied: seaborn in c:\\users\\gokce\\anaconda3\\envs\\transformers\\lib\\site-packages (0.11.2)\n",
      "Requirement already satisfied: numpy>=1.15 in c:\\users\\gokce\\anaconda3\\envs\\transformers\\lib\\site-packages (from seaborn) (1.17.0)\n",
      "Requirement already satisfied: matplotlib>=2.2 in c:\\users\\gokce\\anaconda3\\envs\\transformers\\lib\\site-packages (from seaborn) (3.2.2)\n",
      "Requirement already satisfied: pandas>=0.23 in c:\\users\\gokce\\anaconda3\\envs\\transformers\\lib\\site-packages (from seaborn) (1.1.3)\n",
      "Requirement already satisfied: scipy>=1.0 in c:\\users\\gokce\\anaconda3\\envs\\transformers\\lib\\site-packages (from seaborn) (1.5.0)\n",
      "Requirement already satisfied: kiwisolver>=1.0.1 in c:\\users\\gokce\\anaconda3\\envs\\transformers\\lib\\site-packages (from matplotlib>=2.2->seaborn) (1.2.0)\n",
      "Requirement already satisfied: cycler>=0.10 in c:\\users\\gokce\\anaconda3\\envs\\transformers\\lib\\site-packages (from matplotlib>=2.2->seaborn) (0.10.0)\n",
      "Requirement already satisfied: python-dateutil>=2.1 in c:\\users\\gokce\\anaconda3\\envs\\transformers\\lib\\site-packages (from matplotlib>=2.2->seaborn) (2.8.1)\n",
      "Requirement already satisfied: pyparsing!=2.0.4,!=2.1.2,!=2.1.6,>=2.0.1 in c:\\users\\gokce\\anaconda3\\envs\\transformers\\lib\\site-packages (from matplotlib>=2.2->seaborn) (2.4.7)\n",
      "Requirement already satisfied: pytz>=2017.2 in c:\\users\\gokce\\anaconda3\\envs\\transformers\\lib\\site-packages (from pandas>=0.23->seaborn) (2020.1)\n",
      "Requirement already satisfied: six in c:\\users\\gokce\\anaconda3\\envs\\transformers\\lib\\site-packages (from cycler>=0.10->matplotlib>=2.2->seaborn) (1.15.0)\n",
      "Requirement already satisfied: tokenizers in c:\\users\\gokce\\anaconda3\\envs\\transformers\\lib\\site-packages (0.10.1)\n",
      "Requirement already satisfied: plotly in c:\\users\\gokce\\anaconda3\\envs\\transformers\\lib\\site-packages (4.11.0)\n",
      "Requirement already satisfied: retrying>=1.3.3 in c:\\users\\gokce\\anaconda3\\envs\\transformers\\lib\\site-packages (from plotly) (1.3.3)\n",
      "Requirement already satisfied: six in c:\\users\\gokce\\anaconda3\\envs\\transformers\\lib\\site-packages (from plotly) (1.15.0)\n"
     ]
    }
   ],
   "source": [
    "!pip install seaborn\n",
    "!pip install tokenizers\n",
    "!pip install plotly"
   ]
  },
  {
   "cell_type": "code",
   "execution_count": 2,
   "metadata": {},
   "outputs": [],
   "source": [
    "import json\n",
    "import pandas as pd\n",
    "import numpy as np\n",
    "import matplotlib.pyplot as plt \n",
    "import seaborn as sns\n",
    "import plotly.express as px\n",
    "import re\n",
    "from pathlib import Path\n",
    "from tokenizers import Tokenizer\n",
    "\n",
    "sns.set('notebook')"
   ]
  },
  {
   "cell_type": "code",
   "execution_count": 3,
   "metadata": {},
   "outputs": [],
   "source": [
    "chem_tokenizer = Tokenizer.from_file('../data/vocab.json')"
   ]
  },
  {
   "cell_type": "markdown",
   "metadata": {},
   "source": [
    "References\n",
    "    [1]  Philippe Schwaller, Teodoro Laino, Théophile Gaudin, Peter Bolgar, Christopher A. Hunter, Costas Bekas, and Alpha A. Lee\n",
    "        ACS Central Science 2019 5 (9): Molecular Transformer: A Model for Uncertainty-Calibrated Chemical Reaction Prediction\n",
    "        1572-1583 DOI: 10.1021/acscentsci.9b00576"
   ]
  },
  {
   "cell_type": "code",
   "execution_count": 4,
   "metadata": {},
   "outputs": [],
   "source": [
    "SMI_REGEX_PATTERN = \"(\\[[^\\]]+]|Br?|Cl?|N|O|S|P|F|I|b|c|n|o|s|p|\\(|\\)|\\.|=|#||\\+|\\\\\\\\\\/|:||@|\\?|>|\\*|\\$|\\%[0–9]{2}|[0–9])\"\n",
    "regex = re.compile(SMI_REGEX_PATTERN)"
   ]
  },
  {
   "cell_type": "code",
   "execution_count": 5,
   "metadata": {},
   "outputs": [],
   "source": [
    "df_words = pd.DataFrame(list(chem_tokenizer.get_vocab()))\n",
    "df_words['length'] = df_words[0].apply(lambda s: len([token for token in regex.findall(s)]))"
   ]
  },
  {
   "cell_type": "code",
   "execution_count": 6,
   "metadata": {},
   "outputs": [
    {
     "data": {
      "text/plain": [
       "count    8000.000000\n",
       "mean        9.940250\n",
       "std         5.267817\n",
       "min         2.000000\n",
       "25%         6.000000\n",
       "50%         9.000000\n",
       "75%        12.000000\n",
       "max        98.000000\n",
       "Name: length, dtype: float64"
      ]
     },
     "execution_count": 6,
     "metadata": {},
     "output_type": "execute_result"
    }
   ],
   "source": [
    "df_words.length.describe()"
   ]
  },
  {
   "cell_type": "code",
   "execution_count": 7,
   "metadata": {},
   "outputs": [
    {
     "data": {
      "text/plain": [
       "0"
      ]
     },
     "execution_count": 7,
     "metadata": {},
     "output_type": "execute_result"
    }
   ],
   "source": [
    "df_words.length.isna().sum()"
   ]
  },
  {
   "cell_type": "code",
   "execution_count": 8,
   "metadata": {},
   "outputs": [],
   "source": [
    "sns.set('paper')"
   ]
  },
  {
   "cell_type": "code",
   "execution_count": 9,
   "metadata": {},
   "outputs": [],
   "source": [
    "# fig,ax = plt.subplots(2,2, figsize=(15,8))\n",
    "# ax=ax.flatten()\n",
    "# sns.stripplot(x='bin', y='length', data=df_words, ax=ax[0])\n",
    "# sns.violinplot(x='bin', y='length', data=df_words, ax=ax[1])\n",
    "# sns.boxplot(x='bin', y='length', data=df_words, ax=ax[2])\n",
    "# sns.barplot(x='bin', y='length', data=df_words, ax=ax[3])"
   ]
  },
  {
   "cell_type": "code",
   "execution_count": 10,
   "metadata": {},
   "outputs": [
    {
     "data": {
      "text/html": [
       "<div>\n",
       "<style scoped>\n",
       "    .dataframe tbody tr th:only-of-type {\n",
       "        vertical-align: middle;\n",
       "    }\n",
       "\n",
       "    .dataframe tbody tr th {\n",
       "        vertical-align: top;\n",
       "    }\n",
       "\n",
       "    .dataframe thead th {\n",
       "        text-align: right;\n",
       "    }\n",
       "</style>\n",
       "<table border=\"1\" class=\"dataframe\">\n",
       "  <thead>\n",
       "    <tr style=\"text-align: right;\">\n",
       "      <th></th>\n",
       "      <th>bin</th>\n",
       "      <th>length</th>\n",
       "    </tr>\n",
       "  </thead>\n",
       "  <tbody>\n",
       "    <tr>\n",
       "      <th>0</th>\n",
       "      <td>1-4</td>\n",
       "      <td>673</td>\n",
       "    </tr>\n",
       "    <tr>\n",
       "      <th>1</th>\n",
       "      <td>4-6</td>\n",
       "      <td>1440</td>\n",
       "    </tr>\n",
       "    <tr>\n",
       "      <th>2</th>\n",
       "      <td>6-9</td>\n",
       "      <td>2305</td>\n",
       "    </tr>\n",
       "    <tr>\n",
       "      <th>3</th>\n",
       "      <td>9-12</td>\n",
       "      <td>1588</td>\n",
       "    </tr>\n",
       "    <tr>\n",
       "      <th>4</th>\n",
       "      <td>12-15</td>\n",
       "      <td>1051</td>\n",
       "    </tr>\n",
       "    <tr>\n",
       "      <th>5</th>\n",
       "      <td>15-100</td>\n",
       "      <td>943</td>\n",
       "    </tr>\n",
       "  </tbody>\n",
       "</table>\n",
       "</div>"
      ],
      "text/plain": [
       "      bin  length\n",
       "0     1-4     673\n",
       "1     4-6    1440\n",
       "2     6-9    2305\n",
       "3    9-12    1588\n",
       "4   12-15    1051\n",
       "5  15-100     943"
      ]
     },
     "execution_count": 10,
     "metadata": {},
     "output_type": "execute_result"
    }
   ],
   "source": [
    "df_words['bin'] = pd.cut(df_words['length'], bins=[1, 4, 6, 9, 12, 15, 100], labels=['1-4','4-6', '6-9', '9-12', '12-15', '15-100'])\n",
    "df_words.groupby('bin')['length'].count().reset_index()"
   ]
  },
  {
   "cell_type": "code",
   "execution_count": 11,
   "metadata": {},
   "outputs": [
    {
     "data": {
      "image/png": "[encoded data removed]",
      "text/plain": [
       "<Figure size 432x288 with 1 Axes>"
      ]
     },
     "metadata": {},
     "output_type": "display_data"
    }
   ],
   "source": [
    "sns.set(font_scale=1.4)\n",
    "\n",
    "ax = sns.barplot(x='bin', y='length', data=df_words.groupby('bin')['length'].count().reset_index())\n",
    "ax.set(xlabel='Chemical Word Length', ylabel='Count', title='Histogram of Chemical Word Lengths')\n",
    "plt.show()"
   ]
  },
  {
   "cell_type": "code",
   "execution_count": 12,
   "metadata": {},
   "outputs": [],
   "source": [
    "import sys\n",
    "sys.path.append('../')\n",
    "from data import load_bdb, load_lit_pcba, load_protein_class\n"
   ]
  },
  {
   "cell_type": "code",
   "execution_count": 13,
   "metadata": {},
   "outputs": [
    {
     "name": "stderr",
     "output_type": "stream",
     "text": [
      "..\\data.py:11: SettingWithCopyWarning:\n",
      "\n",
      "\n",
      "A value is trying to be set on a copy of a slice from a DataFrame.\n",
      "Try using .loc[row_indexer,col_indexer] = value instead\n",
      "\n",
      "See the caveats in the documentation: https://pandas.pydata.org/pandas-docs/stable/user_guide/indexing.html#returning-a-view-versus-a-copy\n",
      "\n",
      "..\\data.py:12: SettingWithCopyWarning:\n",
      "\n",
      "\n",
      "A value is trying to be set on a copy of a slice from a DataFrame.\n",
      "Try using .loc[row_indexer,col_indexer] = value instead\n",
      "\n",
      "See the caveats in the documentation: https://pandas.pydata.org/pandas-docs/stable/user_guide/indexing.html#returning-a-view-versus-a-copy\n",
      "\n"
     ]
    },
    {
     "data": {
      "text/html": [
       "<div>\n",
       "<style scoped>\n",
       "    .dataframe tbody tr th:only-of-type {\n",
       "        vertical-align: middle;\n",
       "    }\n",
       "\n",
       "    .dataframe tbody tr th {\n",
       "        vertical-align: top;\n",
       "    }\n",
       "\n",
       "    .dataframe thead th {\n",
       "        text-align: right;\n",
       "    }\n",
       "</style>\n",
       "<table border=\"1\" class=\"dataframe\">\n",
       "  <thead>\n",
       "    <tr style=\"text-align: right;\">\n",
       "      <th></th>\n",
       "      <th>index</th>\n",
       "      <th>words</th>\n",
       "    </tr>\n",
       "  </thead>\n",
       "  <tbody>\n",
       "    <tr>\n",
       "      <th>0</th>\n",
       "      <td>S</td>\n",
       "      <td>369</td>\n",
       "    </tr>\n",
       "    <tr>\n",
       "      <th>1</th>\n",
       "      <td>([O-])</td>\n",
       "      <td>343</td>\n",
       "    </tr>\n",
       "    <tr>\n",
       "      <th>2</th>\n",
       "      <td>(=O)=O)</td>\n",
       "      <td>308</td>\n",
       "    </tr>\n",
       "    <tr>\n",
       "      <th>3</th>\n",
       "      <td>C(O)</td>\n",
       "      <td>177</td>\n",
       "    </tr>\n",
       "    <tr>\n",
       "      <th>4</th>\n",
       "      <td>=O</td>\n",
       "      <td>124</td>\n",
       "    </tr>\n",
       "    <tr>\n",
       "      <th>...</th>\n",
       "      <td>...</td>\n",
       "      <td>...</td>\n",
       "    </tr>\n",
       "    <tr>\n",
       "      <th>1596</th>\n",
       "      <td>c2c1C</td>\n",
       "      <td>1</td>\n",
       "    </tr>\n",
       "    <tr>\n",
       "      <th>1597</th>\n",
       "      <td>c23)c1</td>\n",
       "      <td>1</td>\n",
       "    </tr>\n",
       "    <tr>\n",
       "      <th>1598</th>\n",
       "      <td>NC(=O)[C@H](CCC(N)=O)NC(=O)[C@H](CCC(N)=O)</td>\n",
       "      <td>1</td>\n",
       "    </tr>\n",
       "    <tr>\n",
       "      <th>1599</th>\n",
       "      <td>c2cc3ccccc3cc2</td>\n",
       "      <td>1</td>\n",
       "    </tr>\n",
       "    <tr>\n",
       "      <th>1600</th>\n",
       "      <td>Cc1cc2</td>\n",
       "      <td>1</td>\n",
       "    </tr>\n",
       "  </tbody>\n",
       "</table>\n",
       "<p>1601 rows × 2 columns</p>\n",
       "</div>"
      ],
      "text/plain": [
       "                                           index  words\n",
       "0                                              S    369\n",
       "1                                         ([O-])    343\n",
       "2                                        (=O)=O)    308\n",
       "3                                           C(O)    177\n",
       "4                                             =O    124\n",
       "...                                          ...    ...\n",
       "1596                                       c2c1C      1\n",
       "1597                                      c23)c1      1\n",
       "1598  NC(=O)[C@H](CCC(N)=O)NC(=O)[C@H](CCC(N)=O)      1\n",
       "1599                              c2cc3ccccc3cc2      1\n",
       "1600                                      Cc1cc2      1\n",
       "\n",
       "[1601 rows x 2 columns]"
      ]
     },
     "execution_count": 13,
     "metadata": {},
     "output_type": "execute_result"
    }
   ],
   "source": [
    "bdb_active = set(sum(load_bdb('active').values(), []))\n",
    "bdb_inactive = set(sum(load_bdb('inactive').values(), []))\n",
    "bdb = pd.DataFrame(bdb_active | bdb_inactive, columns=['smiles'])\n",
    "bdb['words'] = bdb['smiles'].apply(lambda s: chem_tokenizer.encode(s).tokens)\n",
    "bdb_appeared_words = bdb.drop_duplicates('smiles').explode('words')['words'].value_counts().reset_index()\n",
    "bdb_appeared_words"
   ]
  },
  {
   "cell_type": "markdown",
   "metadata": {},
   "source": [
    "Number of unique smiles in BDB"
   ]
  },
  {
   "cell_type": "code",
   "execution_count": 14,
   "metadata": {},
   "outputs": [
    {
     "data": {
      "text/plain": [
       "(924, 2)"
      ]
     },
     "execution_count": 14,
     "metadata": {},
     "output_type": "execute_result"
    }
   ],
   "source": [
    "bdb.shape"
   ]
  },
  {
   "cell_type": "markdown",
   "metadata": {},
   "source": [
    "Number of chemical words appeared in BDB"
   ]
  },
  {
   "cell_type": "code",
   "execution_count": 15,
   "metadata": {},
   "outputs": [
    {
     "data": {
      "text/plain": [
       "20.0125"
      ]
     },
     "execution_count": 15,
     "metadata": {},
     "output_type": "execute_result"
    }
   ],
   "source": [
    "bdb_appeared_words.shape[0] / chem_tokenizer.get_vocab_size() * 100"
   ]
  },
  {
   "cell_type": "code",
   "execution_count": 16,
   "metadata": {},
   "outputs": [
    {
     "data": {
      "text/plain": [
       "17.3875"
      ]
     },
     "execution_count": 16,
     "metadata": {},
     "output_type": "execute_result"
    }
   ],
   "source": [
    "df_bdb_active = pd.DataFrame(bdb_active, columns=['smiles'])\n",
    "df_bdb_active['words'] = df_bdb_active['smiles'].apply(lambda s: chem_tokenizer.encode(s).tokens)\n",
    "bdb_active_appeared_words = df_bdb_active.drop_duplicates('smiles').explode('words')['words'].value_counts().reset_index()\n",
    "bdb_active_appeared_words.shape[0] / chem_tokenizer.get_vocab_size() * 100"
   ]
  },
  {
   "cell_type": "code",
   "execution_count": 17,
   "metadata": {},
   "outputs": [
    {
     "data": {
      "text/plain": [
       "17.5125"
      ]
     },
     "execution_count": 17,
     "metadata": {},
     "output_type": "execute_result"
    }
   ],
   "source": [
    "df_bdb_inactive = pd.DataFrame(bdb_inactive, columns=['smiles'])\n",
    "df_bdb_inactive['words'] = df_bdb_inactive['smiles'].apply(lambda s: chem_tokenizer.encode(s).tokens)\n",
    "bdb_inactive_appeared_words = df_bdb_inactive.drop_duplicates('smiles').explode('words')['words'].value_counts().reset_index()\n",
    "bdb_inactive_appeared_words.shape[0] / chem_tokenizer.get_vocab_size() * 100"
   ]
  },
  {
   "cell_type": "code",
   "execution_count": 18,
   "metadata": {},
   "outputs": [
    {
     "data": {
      "text/plain": [
       "(200, 210)"
      ]
     },
     "execution_count": 18,
     "metadata": {},
     "output_type": "execute_result"
    }
   ],
   "source": [
    "unique_active_words = set(bdb_active_appeared_words['index'].tolist()) - set(bdb_inactive_appeared_words['index'].tolist())\n",
    "unique_inactive_words = set(bdb_inactive_appeared_words['index'].tolist()) - set(bdb_active_appeared_words['index'].tolist())\n",
    "len(unique_active_words), len(unique_inactive_words)"
   ]
  },
  {
   "cell_type": "code",
   "execution_count": 19,
   "metadata": {},
   "outputs": [
    {
     "data": {
      "text/html": [
       "<div>\n",
       "<style scoped>\n",
       "    .dataframe tbody tr th:only-of-type {\n",
       "        vertical-align: middle;\n",
       "    }\n",
       "\n",
       "    .dataframe tbody tr th {\n",
       "        vertical-align: top;\n",
       "    }\n",
       "\n",
       "    .dataframe thead th {\n",
       "        text-align: right;\n",
       "    }\n",
       "</style>\n",
       "<table border=\"1\" class=\"dataframe\">\n",
       "  <thead>\n",
       "    <tr style=\"text-align: right;\">\n",
       "      <th></th>\n",
       "      <th>index</th>\n",
       "      <th>words</th>\n",
       "    </tr>\n",
       "  </thead>\n",
       "  <tbody>\n",
       "    <tr>\n",
       "      <th>0</th>\n",
       "      <td>S</td>\n",
       "      <td>253</td>\n",
       "    </tr>\n",
       "    <tr>\n",
       "      <th>1</th>\n",
       "      <td>([O-])</td>\n",
       "      <td>242</td>\n",
       "    </tr>\n",
       "    <tr>\n",
       "      <th>2</th>\n",
       "      <td>(=O)=O)</td>\n",
       "      <td>226</td>\n",
       "    </tr>\n",
       "    <tr>\n",
       "      <th>3</th>\n",
       "      <td>C(O)</td>\n",
       "      <td>101</td>\n",
       "    </tr>\n",
       "    <tr>\n",
       "      <th>4</th>\n",
       "      <td>\\</td>\n",
       "      <td>92</td>\n",
       "    </tr>\n",
       "    <tr>\n",
       "      <th>...</th>\n",
       "      <td>...</td>\n",
       "      <td>...</td>\n",
       "    </tr>\n",
       "    <tr>\n",
       "      <th>1386</th>\n",
       "      <td>(C(=O)N</td>\n",
       "      <td>1</td>\n",
       "    </tr>\n",
       "    <tr>\n",
       "      <th>1387</th>\n",
       "      <td>c2nc3ccccc3s2)</td>\n",
       "      <td>1</td>\n",
       "    </tr>\n",
       "    <tr>\n",
       "      <th>1388</th>\n",
       "      <td>cc(=O)</td>\n",
       "      <td>1</td>\n",
       "    </tr>\n",
       "    <tr>\n",
       "      <th>1389</th>\n",
       "      <td>c3n2)</td>\n",
       "      <td>1</td>\n",
       "    </tr>\n",
       "    <tr>\n",
       "      <th>1390</th>\n",
       "      <td>NC(=O)[C@H](</td>\n",
       "      <td>1</td>\n",
       "    </tr>\n",
       "  </tbody>\n",
       "</table>\n",
       "<p>1391 rows × 2 columns</p>\n",
       "</div>"
      ],
      "text/plain": [
       "               index  words\n",
       "0                  S    253\n",
       "1             ([O-])    242\n",
       "2            (=O)=O)    226\n",
       "3               C(O)    101\n",
       "4                  \\     92\n",
       "...              ...    ...\n",
       "1386         (C(=O)N      1\n",
       "1387  c2nc3ccccc3s2)      1\n",
       "1388          cc(=O)      1\n",
       "1389           c3n2)      1\n",
       "1390    NC(=O)[C@H](      1\n",
       "\n",
       "[1391 rows x 2 columns]"
      ]
     },
     "execution_count": 19,
     "metadata": {},
     "output_type": "execute_result"
    }
   ],
   "source": [
    "bdb_active_word_freq = df_bdb_active.drop_duplicates('smiles').explode('words')['words'].value_counts().reset_index()\n",
    "bdb_active_word_freq"
   ]
  },
  {
   "cell_type": "code",
   "execution_count": 20,
   "metadata": {},
   "outputs": [
    {
     "data": {
      "text/html": [
       "<div>\n",
       "<style scoped>\n",
       "    .dataframe tbody tr th:only-of-type {\n",
       "        vertical-align: middle;\n",
       "    }\n",
       "\n",
       "    .dataframe tbody tr th {\n",
       "        vertical-align: top;\n",
       "    }\n",
       "\n",
       "    .dataframe thead th {\n",
       "        text-align: right;\n",
       "    }\n",
       "</style>\n",
       "<table border=\"1\" class=\"dataframe\">\n",
       "  <thead>\n",
       "    <tr style=\"text-align: right;\">\n",
       "      <th></th>\n",
       "      <th>index</th>\n",
       "      <th>words</th>\n",
       "      <th>qbin</th>\n",
       "    </tr>\n",
       "  </thead>\n",
       "  <tbody>\n",
       "    <tr>\n",
       "      <th>0</th>\n",
       "      <td>S</td>\n",
       "      <td>253</td>\n",
       "      <td>(10.0, 253.0]</td>\n",
       "    </tr>\n",
       "    <tr>\n",
       "      <th>1</th>\n",
       "      <td>([O-])</td>\n",
       "      <td>242</td>\n",
       "      <td>(10.0, 253.0]</td>\n",
       "    </tr>\n",
       "    <tr>\n",
       "      <th>2</th>\n",
       "      <td>(=O)=O)</td>\n",
       "      <td>226</td>\n",
       "      <td>(10.0, 253.0]</td>\n",
       "    </tr>\n",
       "    <tr>\n",
       "      <th>3</th>\n",
       "      <td>C(O)</td>\n",
       "      <td>101</td>\n",
       "      <td>(10.0, 253.0]</td>\n",
       "    </tr>\n",
       "    <tr>\n",
       "      <th>4</th>\n",
       "      <td>\\</td>\n",
       "      <td>92</td>\n",
       "      <td>(10.0, 253.0]</td>\n",
       "    </tr>\n",
       "    <tr>\n",
       "      <th>...</th>\n",
       "      <td>...</td>\n",
       "      <td>...</td>\n",
       "      <td>...</td>\n",
       "    </tr>\n",
       "    <tr>\n",
       "      <th>1386</th>\n",
       "      <td>(C(=O)N</td>\n",
       "      <td>1</td>\n",
       "      <td>(0.999, 2.0]</td>\n",
       "    </tr>\n",
       "    <tr>\n",
       "      <th>1387</th>\n",
       "      <td>c2nc3ccccc3s2)</td>\n",
       "      <td>1</td>\n",
       "      <td>(0.999, 2.0]</td>\n",
       "    </tr>\n",
       "    <tr>\n",
       "      <th>1388</th>\n",
       "      <td>cc(=O)</td>\n",
       "      <td>1</td>\n",
       "      <td>(0.999, 2.0]</td>\n",
       "    </tr>\n",
       "    <tr>\n",
       "      <th>1389</th>\n",
       "      <td>c3n2)</td>\n",
       "      <td>1</td>\n",
       "      <td>(0.999, 2.0]</td>\n",
       "    </tr>\n",
       "    <tr>\n",
       "      <th>1390</th>\n",
       "      <td>NC(=O)[C@H](</td>\n",
       "      <td>1</td>\n",
       "      <td>(0.999, 2.0]</td>\n",
       "    </tr>\n",
       "  </tbody>\n",
       "</table>\n",
       "<p>1391 rows × 3 columns</p>\n",
       "</div>"
      ],
      "text/plain": [
       "               index  words           qbin\n",
       "0                  S    253  (10.0, 253.0]\n",
       "1             ([O-])    242  (10.0, 253.0]\n",
       "2            (=O)=O)    226  (10.0, 253.0]\n",
       "3               C(O)    101  (10.0, 253.0]\n",
       "4                  \\     92  (10.0, 253.0]\n",
       "...              ...    ...            ...\n",
       "1386         (C(=O)N      1   (0.999, 2.0]\n",
       "1387  c2nc3ccccc3s2)      1   (0.999, 2.0]\n",
       "1388          cc(=O)      1   (0.999, 2.0]\n",
       "1389           c3n2)      1   (0.999, 2.0]\n",
       "1390    NC(=O)[C@H](      1   (0.999, 2.0]\n",
       "\n",
       "[1391 rows x 3 columns]"
      ]
     },
     "execution_count": 20,
     "metadata": {},
     "output_type": "execute_result"
    }
   ],
   "source": [
    "bdb_active_word_freq['qbin'] = pd.qcut(bdb_active_word_freq['words'], 8, duplicates='drop')\n",
    "bdb_active_word_freq"
   ]
  },
  {
   "cell_type": "code",
   "execution_count": 21,
   "metadata": {},
   "outputs": [
    {
     "data": {
      "text/html": [
       "<div>\n",
       "<style scoped>\n",
       "    .dataframe tbody tr th:only-of-type {\n",
       "        vertical-align: middle;\n",
       "    }\n",
       "\n",
       "    .dataframe tbody tr th {\n",
       "        vertical-align: top;\n",
       "    }\n",
       "\n",
       "    .dataframe thead th {\n",
       "        text-align: right;\n",
       "    }\n",
       "</style>\n",
       "<table border=\"1\" class=\"dataframe\">\n",
       "  <thead>\n",
       "    <tr style=\"text-align: right;\">\n",
       "      <th></th>\n",
       "      <th>bin</th>\n",
       "      <th>words</th>\n",
       "      <th>percentage</th>\n",
       "    </tr>\n",
       "  </thead>\n",
       "  <tbody>\n",
       "    <tr>\n",
       "      <th>0</th>\n",
       "      <td>1</td>\n",
       "      <td>563</td>\n",
       "      <td>40.474479</td>\n",
       "    </tr>\n",
       "    <tr>\n",
       "      <th>1</th>\n",
       "      <td>2</td>\n",
       "      <td>234</td>\n",
       "      <td>16.822430</td>\n",
       "    </tr>\n",
       "    <tr>\n",
       "      <th>2</th>\n",
       "      <td>3</td>\n",
       "      <td>150</td>\n",
       "      <td>10.783609</td>\n",
       "    </tr>\n",
       "    <tr>\n",
       "      <th>3</th>\n",
       "      <td>3-5</td>\n",
       "      <td>149</td>\n",
       "      <td>10.711718</td>\n",
       "    </tr>\n",
       "    <tr>\n",
       "      <th>4</th>\n",
       "      <td>5-10</td>\n",
       "      <td>128</td>\n",
       "      <td>9.202013</td>\n",
       "    </tr>\n",
       "    <tr>\n",
       "      <th>5</th>\n",
       "      <td>10-25</td>\n",
       "      <td>130</td>\n",
       "      <td>9.345794</td>\n",
       "    </tr>\n",
       "    <tr>\n",
       "      <th>6</th>\n",
       "      <td>25-253</td>\n",
       "      <td>37</td>\n",
       "      <td>2.659957</td>\n",
       "    </tr>\n",
       "  </tbody>\n",
       "</table>\n",
       "</div>"
      ],
      "text/plain": [
       "      bin  words  percentage\n",
       "0       1    563   40.474479\n",
       "1       2    234   16.822430\n",
       "2       3    150   10.783609\n",
       "3     3-5    149   10.711718\n",
       "4    5-10    128    9.202013\n",
       "5   10-25    130    9.345794\n",
       "6  25-253     37    2.659957"
      ]
     },
     "execution_count": 21,
     "metadata": {},
     "output_type": "execute_result"
    }
   ],
   "source": [
    "bdb_active_word_freq['bin'] = pd.cut(bdb_active_word_freq['words'], bins=[0, 1, 2, 3, 5, 10, 25, 253], labels=['1', '2', '3', '3-5', '5-10', '10-25', '25-253'])\n",
    "df_freqs = bdb_active_word_freq.groupby('bin')['words'].count().reset_index()\n",
    "df_freqs['percentage'] = df_freqs['words'] / df_freqs['words'].sum() * 100\n",
    "df_freqs"
   ]
  },
  {
   "cell_type": "code",
   "execution_count": 22,
   "metadata": {},
   "outputs": [
    {
     "data": {
      "image/png": "[encoded data removed]",
      "text/plain": [
       "<Figure size 432x288 with 1 Axes>"
      ]
     },
     "metadata": {},
     "output_type": "display_data"
    }
   ],
   "source": [
    "sns.set(font_scale=1.4)\n",
    "\n",
    "ax = sns.barplot(x='bin', y='percentage', data=df_freqs)\n",
    "ax.set(xlabel='Chemical Word Frequency', ylabel='Percentage (%)', title='Histogram of Chemical Word Frequencies')\n",
    "plt.show()"
   ]
  },
  {
   "cell_type": "code",
   "execution_count": 23,
   "metadata": {},
   "outputs": [
    {
     "data": {
      "text/html": [
       "<div>\n",
       "<style scoped>\n",
       "    .dataframe tbody tr th:only-of-type {\n",
       "        vertical-align: middle;\n",
       "    }\n",
       "\n",
       "    .dataframe tbody tr th {\n",
       "        vertical-align: top;\n",
       "    }\n",
       "\n",
       "    .dataframe thead th {\n",
       "        text-align: right;\n",
       "    }\n",
       "</style>\n",
       "<table border=\"1\" class=\"dataframe\">\n",
       "  <thead>\n",
       "    <tr style=\"text-align: right;\">\n",
       "      <th></th>\n",
       "      <th>bin</th>\n",
       "      <th>words</th>\n",
       "      <th>percentage</th>\n",
       "    </tr>\n",
       "  </thead>\n",
       "  <tbody>\n",
       "    <tr>\n",
       "      <th>0</th>\n",
       "      <td>1</td>\n",
       "      <td>601</td>\n",
       "      <td>37.609512</td>\n",
       "    </tr>\n",
       "    <tr>\n",
       "      <th>1</th>\n",
       "      <td>2</td>\n",
       "      <td>261</td>\n",
       "      <td>16.332916</td>\n",
       "    </tr>\n",
       "    <tr>\n",
       "      <th>2</th>\n",
       "      <td>3</td>\n",
       "      <td>164</td>\n",
       "      <td>10.262829</td>\n",
       "    </tr>\n",
       "    <tr>\n",
       "      <th>3</th>\n",
       "      <td>3-5</td>\n",
       "      <td>169</td>\n",
       "      <td>10.575720</td>\n",
       "    </tr>\n",
       "    <tr>\n",
       "      <th>4</th>\n",
       "      <td>5-10</td>\n",
       "      <td>181</td>\n",
       "      <td>11.326658</td>\n",
       "    </tr>\n",
       "    <tr>\n",
       "      <th>5</th>\n",
       "      <td>10-25</td>\n",
       "      <td>155</td>\n",
       "      <td>9.699625</td>\n",
       "    </tr>\n",
       "    <tr>\n",
       "      <th>6</th>\n",
       "      <td>25-253</td>\n",
       "      <td>67</td>\n",
       "      <td>4.192741</td>\n",
       "    </tr>\n",
       "  </tbody>\n",
       "</table>\n",
       "</div>"
      ],
      "text/plain": [
       "      bin  words  percentage\n",
       "0       1    601   37.609512\n",
       "1       2    261   16.332916\n",
       "2       3    164   10.262829\n",
       "3     3-5    169   10.575720\n",
       "4    5-10    181   11.326658\n",
       "5   10-25    155    9.699625\n",
       "6  25-253     67    4.192741"
      ]
     },
     "execution_count": 23,
     "metadata": {},
     "output_type": "execute_result"
    }
   ],
   "source": [
    "bdb_word_freq = bdb.drop_duplicates('smiles').explode('words')['words'].value_counts().reset_index()\n",
    "bdb_word_freq['bin'] = pd.cut(bdb_word_freq['words'], bins=[0, 1, 2, 3, 5, 10, 25, 253], labels=['1', '2', '3', '3-5', '5-10', '10-25', '25-253'])\n",
    "df_freqs = bdb_word_freq.groupby('bin')['words'].count().reset_index()\n",
    "df_freqs['percentage'] = df_freqs['words'] / df_freqs['words'].sum() * 100\n",
    "df_freqs"
   ]
  },
  {
   "cell_type": "code",
   "execution_count": 24,
   "metadata": {},
   "outputs": [
    {
     "data": {
      "image/png": "[encoded data removed]",
      "text/plain": [
       "<Figure size 432x288 with 1 Axes>"
      ]
     },
     "metadata": {},
     "output_type": "display_data"
    }
   ],
   "source": [
    "sns.set(font_scale=1.4)\n",
    "\n",
    "ax = sns.barplot(x='bin', y='percentage', data=df_freqs)\n",
    "ax.set(xlabel='Chemical Word Occurrence', ylabel='Percentage (%)', title='Histogram of Chemical Word Occurrences')\n",
    "plt.show()"
   ]
  },
  {
   "cell_type": "markdown",
   "metadata": {},
   "source": [
    "### Unique and Common words as table"
   ]
  },
  {
   "cell_type": "code",
   "execution_count": 25,
   "metadata": {},
   "outputs": [],
   "source": [
    "# from matplotlib_venn import venn2, venn2_circles, venn2_unweighted\n",
    "# from matplotlib import pyplot as plt\n",
    "\n",
    "# venn2(subsets = (len(unique_active_words), len(unique_inactive_words), len(bdb_appeared_words)), set_labels = ('Strong Binders', 'Weak Binders'))\n"
   ]
  },
  {
   "cell_type": "code",
   "execution_count": 26,
   "metadata": {},
   "outputs": [
    {
     "name": "stdout",
     "output_type": "stream",
     "text": [
      "7761 382674\n"
     ]
    },
    {
     "data": {
      "text/html": [
       "<div>\n",
       "<style scoped>\n",
       "    .dataframe tbody tr th:only-of-type {\n",
       "        vertical-align: middle;\n",
       "    }\n",
       "\n",
       "    .dataframe tbody tr th {\n",
       "        vertical-align: top;\n",
       "    }\n",
       "\n",
       "    .dataframe thead th {\n",
       "        text-align: right;\n",
       "    }\n",
       "</style>\n",
       "<table border=\"1\" class=\"dataframe\">\n",
       "  <thead>\n",
       "    <tr style=\"text-align: right;\">\n",
       "      <th></th>\n",
       "      <th>index</th>\n",
       "      <th>words</th>\n",
       "    </tr>\n",
       "  </thead>\n",
       "  <tbody>\n",
       "    <tr>\n",
       "      <th>0</th>\n",
       "      <td>+]</td>\n",
       "      <td>67813</td>\n",
       "    </tr>\n",
       "    <tr>\n",
       "      <th>1</th>\n",
       "      <td>H</td>\n",
       "      <td>67805</td>\n",
       "    </tr>\n",
       "    <tr>\n",
       "      <th>2</th>\n",
       "      <td>[N</td>\n",
       "      <td>66021</td>\n",
       "    </tr>\n",
       "    <tr>\n",
       "      <th>3</th>\n",
       "      <td>\\</td>\n",
       "      <td>53650</td>\n",
       "    </tr>\n",
       "    <tr>\n",
       "      <th>4</th>\n",
       "      <td>C</td>\n",
       "      <td>44580</td>\n",
       "    </tr>\n",
       "    <tr>\n",
       "      <th>...</th>\n",
       "      <td>...</td>\n",
       "      <td>...</td>\n",
       "    </tr>\n",
       "    <tr>\n",
       "      <th>5664</th>\n",
       "      <td>O[C@H]1[C@H](O)[C@H](O)</td>\n",
       "      <td>1</td>\n",
       "    </tr>\n",
       "    <tr>\n",
       "      <th>5665</th>\n",
       "      <td>[C@@H](C)[C@@H]1O</td>\n",
       "      <td>1</td>\n",
       "    </tr>\n",
       "    <tr>\n",
       "      <th>5666</th>\n",
       "      <td>CC(C)C[C@H](NC(=O)[C@@H](</td>\n",
       "      <td>1</td>\n",
       "    </tr>\n",
       "    <tr>\n",
       "      <th>5667</th>\n",
       "      <td>C2C1</td>\n",
       "      <td>1</td>\n",
       "    </tr>\n",
       "    <tr>\n",
       "      <th>5668</th>\n",
       "      <td>NC(=O)[C@H]1CCCN1C(=O)[C@H](</td>\n",
       "      <td>1</td>\n",
       "    </tr>\n",
       "  </tbody>\n",
       "</table>\n",
       "<p>5669 rows × 2 columns</p>\n",
       "</div>"
      ],
      "text/plain": [
       "                             index  words\n",
       "0                               +]  67813\n",
       "1                                H  67805\n",
       "2                               [N  66021\n",
       "3                                \\  53650\n",
       "4                                C  44580\n",
       "...                            ...    ...\n",
       "5664       O[C@H]1[C@H](O)[C@H](O)      1\n",
       "5665             [C@@H](C)[C@@H]1O      1\n",
       "5666     CC(C)C[C@H](NC(=O)[C@@H](      1\n",
       "5667                          C2C1      1\n",
       "5668  NC(=O)[C@H]1CCCN1C(=O)[C@H](      1\n",
       "\n",
       "[5669 rows x 2 columns]"
      ]
     },
     "execution_count": 26,
     "metadata": {},
     "output_type": "execute_result"
    }
   ],
   "source": [
    "lit_pcba_active = set(sum(load_lit_pcba('active').values(), []))\n",
    "lit_pcba_inactive = set(sum(load_lit_pcba('inactive').values(), []))\n",
    "print(len(lit_pcba_active), len(lit_pcba_inactive))\n",
    "lit_pcba = pd.DataFrame(lit_pcba_active | lit_pcba_inactive, columns=['smiles'])\n",
    "lit_pcba['words'] = lit_pcba['smiles'].apply(lambda s: chem_tokenizer.encode(s).tokens)\n",
    "lit_pcba_appeared_words = lit_pcba.drop_duplicates('smiles').explode('words')['words'].value_counts().reset_index()\n",
    "lit_pcba_appeared_words"
   ]
  },
  {
   "cell_type": "markdown",
   "metadata": {},
   "source": [
    "Number of interactions in LitPCBA"
   ]
  },
  {
   "cell_type": "code",
   "execution_count": 27,
   "metadata": {},
   "outputs": [
    {
     "data": {
      "text/plain": [
       "(382743, 2)"
      ]
     },
     "execution_count": 27,
     "metadata": {},
     "output_type": "execute_result"
    }
   ],
   "source": [
    "lit_pcba.shape"
   ]
  },
  {
   "cell_type": "markdown",
   "metadata": {},
   "source": [
    "Number of chemical words appeared in LitPCBA"
   ]
  },
  {
   "cell_type": "code",
   "execution_count": 28,
   "metadata": {},
   "outputs": [
    {
     "data": {
      "text/plain": [
       "70.8625"
      ]
     },
     "execution_count": 28,
     "metadata": {},
     "output_type": "execute_result"
    }
   ],
   "source": [
    "lit_pcba_appeared_words.shape[0] / chem_tokenizer.get_vocab_size() * 100"
   ]
  },
  {
   "cell_type": "code",
   "execution_count": 29,
   "metadata": {},
   "outputs": [
    {
     "data": {
      "text/plain": [
       "45.75"
      ]
     },
     "execution_count": 29,
     "metadata": {},
     "output_type": "execute_result"
    }
   ],
   "source": [
    "df_lit_pcba_active = pd.DataFrame(lit_pcba_active, columns=['smiles'])\n",
    "df_lit_pcba_active['words'] = df_lit_pcba_active['smiles'].apply(lambda s: chem_tokenizer.encode(s).tokens)\n",
    "lit_pcba_active_appeared_words = df_lit_pcba_active.drop_duplicates('smiles').explode('words')['words'].value_counts().reset_index()\n",
    "lit_pcba_active_appeared_words.shape[0] / chem_tokenizer.get_vocab_size() * 100"
   ]
  },
  {
   "cell_type": "code",
   "execution_count": 30,
   "metadata": {},
   "outputs": [
    {
     "data": {
      "text/plain": [
       "70.8625"
      ]
     },
     "execution_count": 30,
     "metadata": {},
     "output_type": "execute_result"
    }
   ],
   "source": [
    "df_lit_pcba_inactive = pd.DataFrame(lit_pcba_inactive, columns=['smiles'])\n",
    "df_lit_pcba_inactive['words'] = df_lit_pcba_inactive['smiles'].apply(lambda s: chem_tokenizer.encode(s).tokens)\n",
    "lit_pcba_inactive_appeared_words = df_lit_pcba_inactive.drop_duplicates('smiles').explode('words')['words'].value_counts().reset_index()\n",
    "lit_pcba_inactive_appeared_words.shape[0] / chem_tokenizer.get_vocab_size() * 100"
   ]
  },
  {
   "cell_type": "code",
   "execution_count": 31,
   "metadata": {},
   "outputs": [
    {
     "data": {
      "text/plain": [
       "(0, 2009)"
      ]
     },
     "execution_count": 31,
     "metadata": {},
     "output_type": "execute_result"
    }
   ],
   "source": [
    "unique_active_words = set(lit_pcba_active_appeared_words['index'].tolist()) - set(lit_pcba_inactive_appeared_words['index'].tolist())\n",
    "unique_inactive_words = set(lit_pcba_inactive_appeared_words['index'].tolist()) - set(lit_pcba_active_appeared_words['index'].tolist())\n",
    "len(unique_active_words), len(unique_inactive_words)"
   ]
  },
  {
   "cell_type": "code",
   "execution_count": 33,
   "metadata": {},
   "outputs": [
    {
     "data": {
      "text/html": [
       "<div>\n",
       "<style scoped>\n",
       "    .dataframe tbody tr th:only-of-type {\n",
       "        vertical-align: middle;\n",
       "    }\n",
       "\n",
       "    .dataframe tbody tr th {\n",
       "        vertical-align: top;\n",
       "    }\n",
       "\n",
       "    .dataframe thead th {\n",
       "        text-align: right;\n",
       "    }\n",
       "</style>\n",
       "<table border=\"1\" class=\"dataframe\">\n",
       "  <thead>\n",
       "    <tr style=\"text-align: right;\">\n",
       "      <th></th>\n",
       "      <th>bin</th>\n",
       "      <th>words</th>\n",
       "      <th>percentage</th>\n",
       "    </tr>\n",
       "  </thead>\n",
       "  <tbody>\n",
       "    <tr>\n",
       "      <th>0</th>\n",
       "      <td>1</td>\n",
       "      <td>828</td>\n",
       "      <td>22.622951</td>\n",
       "    </tr>\n",
       "    <tr>\n",
       "      <th>1</th>\n",
       "      <td>2</td>\n",
       "      <td>521</td>\n",
       "      <td>14.234973</td>\n",
       "    </tr>\n",
       "    <tr>\n",
       "      <th>2</th>\n",
       "      <td>3</td>\n",
       "      <td>339</td>\n",
       "      <td>9.262295</td>\n",
       "    </tr>\n",
       "    <tr>\n",
       "      <th>3</th>\n",
       "      <td>3-5</td>\n",
       "      <td>491</td>\n",
       "      <td>13.415301</td>\n",
       "    </tr>\n",
       "    <tr>\n",
       "      <th>4</th>\n",
       "      <td>5-10</td>\n",
       "      <td>523</td>\n",
       "      <td>14.289617</td>\n",
       "    </tr>\n",
       "    <tr>\n",
       "      <th>5</th>\n",
       "      <td>10-25</td>\n",
       "      <td>460</td>\n",
       "      <td>12.568306</td>\n",
       "    </tr>\n",
       "    <tr>\n",
       "      <th>6</th>\n",
       "      <td>25-2500</td>\n",
       "      <td>498</td>\n",
       "      <td>13.606557</td>\n",
       "    </tr>\n",
       "  </tbody>\n",
       "</table>\n",
       "</div>"
      ],
      "text/plain": [
       "       bin  words  percentage\n",
       "0        1    828   22.622951\n",
       "1        2    521   14.234973\n",
       "2        3    339    9.262295\n",
       "3      3-5    491   13.415301\n",
       "4     5-10    523   14.289617\n",
       "5    10-25    460   12.568306\n",
       "6  25-2500    498   13.606557"
      ]
     },
     "execution_count": 33,
     "metadata": {},
     "output_type": "execute_result"
    }
   ],
   "source": [
    "lit_pcba_active_word_freq = df_lit_pcba_active.drop_duplicates('smiles').explode('words')['words'].value_counts().reset_index()\n",
    "lit_pcba_active_word_freq['bin'] = pd.cut(lit_pcba_active_word_freq['words'], bins=[0, 1, 2, 3, 5, 10, 25, 2500], labels=['1', '2', '3', '3-5', '5-10', '10-25', '25-2500'])\n",
    "df_freqs = lit_pcba_active_word_freq.groupby('bin')['words'].count().reset_index()\n",
    "df_freqs['percentage'] = df_freqs['words'] / df_freqs['words'].sum() * 100\n",
    "df_freqs"
   ]
  },
  {
   "cell_type": "code",
   "execution_count": 34,
   "metadata": {},
   "outputs": [
    {
     "data": {
      "text/plain": [
       "(0.999, 2.0]      1349\n",
       "(37.0, 1838.0]     359\n",
       "(15.0, 37.0]       352\n",
       "(2.0, 3.0]         339\n",
       "(4.0, 6.0]         338\n",
       "(6.0, 9.0]         320\n",
       "(9.0, 15.0]        316\n",
       "(3.0, 4.0]         287\n",
       "Name: words, dtype: int64"
      ]
     },
     "execution_count": 34,
     "metadata": {},
     "output_type": "execute_result"
    }
   ],
   "source": [
    "pd.qcut(lit_pcba_active_word_freq['words'], 10, duplicates='drop').value_counts()"
   ]
  },
  {
   "cell_type": "code",
   "execution_count": 35,
   "metadata": {},
   "outputs": [
    {
     "data": {
      "text/plain": [
       "(0.999, 2.0]      1349\n",
       "(37.0, 1838.0]     359\n",
       "(15.0, 37.0]       352\n",
       "(2.0, 3.0]         339\n",
       "(4.0, 6.0]         338\n",
       "(6.0, 9.0]         320\n",
       "(9.0, 15.0]        316\n",
       "(3.0, 4.0]         287\n",
       "Name: words, dtype: int64"
      ]
     },
     "execution_count": 35,
     "metadata": {},
     "output_type": "execute_result"
    }
   ],
   "source": [
    "pd.qcut(lit_pcba_active_word_freq['words'], 10, duplicates='drop').value_counts()"
   ]
  },
  {
   "cell_type": "code",
   "execution_count": 36,
   "metadata": {},
   "outputs": [
    {
     "data": {
      "image/png": "[encoded data removed]",
      "text/plain": [
       "<Figure size 432x288 with 1 Axes>"
      ]
     },
     "metadata": {},
     "output_type": "display_data"
    }
   ],
   "source": [
    "sns.set(font_scale=1.4)\n",
    "\n",
    "ax = sns.barplot(x='bin', y='percentage', data=df_freqs)\n",
    "ax.set(xlabel='Chemical Word Occurrence', ylabel='Percentage (%)', title='Histogram of Chemical Word Occurrences')\n",
    "plt.show()"
   ]
  },
  {
   "cell_type": "code",
   "execution_count": 42,
   "metadata": {},
   "outputs": [
    {
     "data": {
      "text/html": [
       "<div>\n",
       "<style scoped>\n",
       "    .dataframe tbody tr th:only-of-type {\n",
       "        vertical-align: middle;\n",
       "    }\n",
       "\n",
       "    .dataframe tbody tr th {\n",
       "        vertical-align: top;\n",
       "    }\n",
       "\n",
       "    .dataframe thead th {\n",
       "        text-align: right;\n",
       "    }\n",
       "</style>\n",
       "<table border=\"1\" class=\"dataframe\">\n",
       "  <thead>\n",
       "    <tr style=\"text-align: right;\">\n",
       "      <th></th>\n",
       "      <th>bin</th>\n",
       "      <th>words</th>\n",
       "      <th>percentage</th>\n",
       "    </tr>\n",
       "  </thead>\n",
       "  <tbody>\n",
       "    <tr>\n",
       "      <th>0</th>\n",
       "      <td>1</td>\n",
       "      <td>200</td>\n",
       "      <td>3.698225</td>\n",
       "    </tr>\n",
       "    <tr>\n",
       "      <th>1</th>\n",
       "      <td>2</td>\n",
       "      <td>132</td>\n",
       "      <td>2.440828</td>\n",
       "    </tr>\n",
       "    <tr>\n",
       "      <th>2</th>\n",
       "      <td>3</td>\n",
       "      <td>99</td>\n",
       "      <td>1.830621</td>\n",
       "    </tr>\n",
       "    <tr>\n",
       "      <th>3</th>\n",
       "      <td>3-5</td>\n",
       "      <td>172</td>\n",
       "      <td>3.180473</td>\n",
       "    </tr>\n",
       "    <tr>\n",
       "      <th>4</th>\n",
       "      <td>5-10</td>\n",
       "      <td>351</td>\n",
       "      <td>6.490385</td>\n",
       "    </tr>\n",
       "    <tr>\n",
       "      <th>5</th>\n",
       "      <td>10-25</td>\n",
       "      <td>639</td>\n",
       "      <td>11.815828</td>\n",
       "    </tr>\n",
       "    <tr>\n",
       "      <th>6</th>\n",
       "      <td>25-2500</td>\n",
       "      <td>3815</td>\n",
       "      <td>70.543639</td>\n",
       "    </tr>\n",
       "  </tbody>\n",
       "</table>\n",
       "</div>"
      ],
      "text/plain": [
       "       bin  words  percentage\n",
       "0        1    200    3.698225\n",
       "1        2    132    2.440828\n",
       "2        3     99    1.830621\n",
       "3      3-5    172    3.180473\n",
       "4     5-10    351    6.490385\n",
       "5    10-25    639   11.815828\n",
       "6  25-2500   3815   70.543639"
      ]
     },
     "execution_count": 42,
     "metadata": {},
     "output_type": "execute_result"
    }
   ],
   "source": [
    "lit_pcba_word_freq = lit_pcba.drop_duplicates('smiles').explode('words')['words'].value_counts().reset_index()\n",
    "lit_pcba_word_freq['bin'] = pd.cut(lit_pcba_word_freq['words'], bins=[0, 1, 2, 3, 5, 10, 25, 2500], labels=['1', '2', '3', '3-5', '5-10', '10-25', '25-2500'])\n",
    "df_freqs = lit_pcba_word_freq.groupby('bin')['words'].count().reset_index()\n",
    "df_freqs['percentage'] = df_freqs['words'] / df_freqs['words'].sum() * 100\n",
    "df_freqs"
   ]
  },
  {
   "cell_type": "code",
   "execution_count": 43,
   "metadata": {},
   "outputs": [
    {
     "data": {
      "text/plain": [
       "(0.999, 5.0]        603\n",
       "(14.0, 29.0]        588\n",
       "(137.0, 224.0]      568\n",
       "(979.4, 67813.0]    567\n",
       "(397.4, 979.4]      567\n",
       "(51.0, 87.0]        567\n",
       "(224.0, 397.4]      563\n",
       "(87.0, 137.0]       557\n",
       "(29.0, 51.0]        556\n",
       "(5.0, 14.0]         533\n",
       "Name: words, dtype: int64"
      ]
     },
     "execution_count": 43,
     "metadata": {},
     "output_type": "execute_result"
    }
   ],
   "source": [
    "pd.qcut(lit_pcba_word_freq['words'], 10).value_counts()"
   ]
  },
  {
   "cell_type": "code",
   "execution_count": 44,
   "metadata": {},
   "outputs": [
    {
     "data": {
      "image/png": "[encoded data removed]",
      "text/plain": [
       "<Figure size 432x288 with 1 Axes>"
      ]
     },
     "metadata": {},
     "output_type": "display_data"
    }
   ],
   "source": [
    "sns.set(font_scale=1.4)\n",
    "\n",
    "ax = sns.barplot(x='bin', y='percentage', data=df_freqs)\n",
    "ax.set(xlabel='Chemical Word Occurrence', ylabel='Percentage (%)', title='Histogram of Chemical Word Occurrences')\n",
    "plt.show()"
   ]
  },
  {
   "cell_type": "code",
   "execution_count": 45,
   "metadata": {},
   "outputs": [],
   "source": [
    "classes = ['epigenetic-regulators', 'hydrolases', 'ion-channels', 'membrane-receptors', 'other-enzymes', \n",
    "           'oxidoreductases', 'proteases', 'transcription-factors', 'transferases', 'transporters']"
   ]
  },
  {
   "cell_type": "code",
   "execution_count": 46,
   "metadata": {},
   "outputs": [
    {
     "name": "stderr",
     "output_type": "stream",
     "text": [
      "..\\data.py:50: SettingWithCopyWarning:\n",
      "\n",
      "\n",
      "A value is trying to be set on a copy of a slice from a DataFrame.\n",
      "Try using .loc[row_indexer,col_indexer] = value instead\n",
      "\n",
      "See the caveats in the documentation: https://pandas.pydata.org/pandas-docs/stable/user_guide/indexing.html#returning-a-view-versus-a-copy\n",
      "\n",
      "..\\data.py:51: SettingWithCopyWarning:\n",
      "\n",
      "\n",
      "A value is trying to be set on a copy of a slice from a DataFrame\n",
      "\n",
      "See the caveats in the documentation: https://pandas.pydata.org/pandas-docs/stable/user_guide/indexing.html#returning-a-view-versus-a-copy\n",
      "\n",
      "..\\data.py:50: SettingWithCopyWarning:\n",
      "\n",
      "\n",
      "A value is trying to be set on a copy of a slice from a DataFrame.\n",
      "Try using .loc[row_indexer,col_indexer] = value instead\n",
      "\n",
      "See the caveats in the documentation: https://pandas.pydata.org/pandas-docs/stable/user_guide/indexing.html#returning-a-view-versus-a-copy\n",
      "\n",
      "..\\data.py:51: SettingWithCopyWarning:\n",
      "\n",
      "\n",
      "A value is trying to be set on a copy of a slice from a DataFrame\n",
      "\n",
      "See the caveats in the documentation: https://pandas.pydata.org/pandas-docs/stable/user_guide/indexing.html#returning-a-view-versus-a-copy\n",
      "\n",
      "..\\data.py:50: SettingWithCopyWarning:\n",
      "\n",
      "\n",
      "A value is trying to be set on a copy of a slice from a DataFrame.\n",
      "Try using .loc[row_indexer,col_indexer] = value instead\n",
      "\n",
      "See the caveats in the documentation: https://pandas.pydata.org/pandas-docs/stable/user_guide/indexing.html#returning-a-view-versus-a-copy\n",
      "\n",
      "..\\data.py:51: SettingWithCopyWarning:\n",
      "\n",
      "\n",
      "A value is trying to be set on a copy of a slice from a DataFrame\n",
      "\n",
      "See the caveats in the documentation: https://pandas.pydata.org/pandas-docs/stable/user_guide/indexing.html#returning-a-view-versus-a-copy\n",
      "\n",
      "..\\data.py:50: SettingWithCopyWarning:\n",
      "\n",
      "\n",
      "A value is trying to be set on a copy of a slice from a DataFrame.\n",
      "Try using .loc[row_indexer,col_indexer] = value instead\n",
      "\n",
      "See the caveats in the documentation: https://pandas.pydata.org/pandas-docs/stable/user_guide/indexing.html#returning-a-view-versus-a-copy\n",
      "\n",
      "..\\data.py:51: SettingWithCopyWarning:\n",
      "\n",
      "\n",
      "A value is trying to be set on a copy of a slice from a DataFrame\n",
      "\n",
      "See the caveats in the documentation: https://pandas.pydata.org/pandas-docs/stable/user_guide/indexing.html#returning-a-view-versus-a-copy\n",
      "\n",
      "..\\data.py:50: SettingWithCopyWarning:\n",
      "\n",
      "\n",
      "A value is trying to be set on a copy of a slice from a DataFrame.\n",
      "Try using .loc[row_indexer,col_indexer] = value instead\n",
      "\n",
      "See the caveats in the documentation: https://pandas.pydata.org/pandas-docs/stable/user_guide/indexing.html#returning-a-view-versus-a-copy\n",
      "\n",
      "..\\data.py:51: SettingWithCopyWarning:\n",
      "\n",
      "\n",
      "A value is trying to be set on a copy of a slice from a DataFrame\n",
      "\n",
      "See the caveats in the documentation: https://pandas.pydata.org/pandas-docs/stable/user_guide/indexing.html#returning-a-view-versus-a-copy\n",
      "\n",
      "..\\data.py:50: SettingWithCopyWarning:\n",
      "\n",
      "\n",
      "A value is trying to be set on a copy of a slice from a DataFrame.\n",
      "Try using .loc[row_indexer,col_indexer] = value instead\n",
      "\n",
      "See the caveats in the documentation: https://pandas.pydata.org/pandas-docs/stable/user_guide/indexing.html#returning-a-view-versus-a-copy\n",
      "\n",
      "..\\data.py:51: SettingWithCopyWarning:\n",
      "\n",
      "\n",
      "A value is trying to be set on a copy of a slice from a DataFrame\n",
      "\n",
      "See the caveats in the documentation: https://pandas.pydata.org/pandas-docs/stable/user_guide/indexing.html#returning-a-view-versus-a-copy\n",
      "\n",
      "..\\data.py:50: SettingWithCopyWarning:\n",
      "\n",
      "\n",
      "A value is trying to be set on a copy of a slice from a DataFrame.\n",
      "Try using .loc[row_indexer,col_indexer] = value instead\n",
      "\n",
      "See the caveats in the documentation: https://pandas.pydata.org/pandas-docs/stable/user_guide/indexing.html#returning-a-view-versus-a-copy\n",
      "\n",
      "..\\data.py:51: SettingWithCopyWarning:\n",
      "\n",
      "\n",
      "A value is trying to be set on a copy of a slice from a DataFrame\n",
      "\n",
      "See the caveats in the documentation: https://pandas.pydata.org/pandas-docs/stable/user_guide/indexing.html#returning-a-view-versus-a-copy\n",
      "\n",
      "..\\data.py:50: SettingWithCopyWarning:\n",
      "\n",
      "\n",
      "A value is trying to be set on a copy of a slice from a DataFrame.\n",
      "Try using .loc[row_indexer,col_indexer] = value instead\n",
      "\n",
      "See the caveats in the documentation: https://pandas.pydata.org/pandas-docs/stable/user_guide/indexing.html#returning-a-view-versus-a-copy\n",
      "\n",
      "..\\data.py:51: SettingWithCopyWarning:\n",
      "\n",
      "\n",
      "A value is trying to be set on a copy of a slice from a DataFrame\n",
      "\n",
      "See the caveats in the documentation: https://pandas.pydata.org/pandas-docs/stable/user_guide/indexing.html#returning-a-view-versus-a-copy\n",
      "\n",
      "..\\data.py:50: SettingWithCopyWarning:\n",
      "\n",
      "\n",
      "A value is trying to be set on a copy of a slice from a DataFrame.\n",
      "Try using .loc[row_indexer,col_indexer] = value instead\n",
      "\n",
      "See the caveats in the documentation: https://pandas.pydata.org/pandas-docs/stable/user_guide/indexing.html#returning-a-view-versus-a-copy\n",
      "\n",
      "..\\data.py:51: SettingWithCopyWarning:\n",
      "\n",
      "\n",
      "A value is trying to be set on a copy of a slice from a DataFrame\n",
      "\n",
      "See the caveats in the documentation: https://pandas.pydata.org/pandas-docs/stable/user_guide/indexing.html#returning-a-view-versus-a-copy\n",
      "\n",
      "..\\data.py:50: SettingWithCopyWarning:\n",
      "\n",
      "\n",
      "A value is trying to be set on a copy of a slice from a DataFrame.\n",
      "Try using .loc[row_indexer,col_indexer] = value instead\n",
      "\n",
      "See the caveats in the documentation: https://pandas.pydata.org/pandas-docs/stable/user_guide/indexing.html#returning-a-view-versus-a-copy\n",
      "\n",
      "..\\data.py:51: SettingWithCopyWarning:\n",
      "\n",
      "\n",
      "A value is trying to be set on a copy of a slice from a DataFrame\n",
      "\n",
      "See the caveats in the documentation: https://pandas.pydata.org/pandas-docs/stable/user_guide/indexing.html#returning-a-view-versus-a-copy\n",
      "\n",
      "..\\data.py:50: SettingWithCopyWarning:\n",
      "\n",
      "\n",
      "A value is trying to be set on a copy of a slice from a DataFrame.\n",
      "Try using .loc[row_indexer,col_indexer] = value instead\n",
      "\n",
      "See the caveats in the documentation: https://pandas.pydata.org/pandas-docs/stable/user_guide/indexing.html#returning-a-view-versus-a-copy\n",
      "\n",
      "..\\data.py:51: SettingWithCopyWarning:\n",
      "\n",
      "\n",
      "A value is trying to be set on a copy of a slice from a DataFrame\n",
      "\n",
      "See the caveats in the documentation: https://pandas.pydata.org/pandas-docs/stable/user_guide/indexing.html#returning-a-view-versus-a-copy\n",
      "\n",
      "..\\data.py:50: SettingWithCopyWarning:\n",
      "\n",
      "\n",
      "A value is trying to be set on a copy of a slice from a DataFrame.\n",
      "Try using .loc[row_indexer,col_indexer] = value instead\n",
      "\n",
      "See the caveats in the documentation: https://pandas.pydata.org/pandas-docs/stable/user_guide/indexing.html#returning-a-view-versus-a-copy\n",
      "\n",
      "..\\data.py:51: SettingWithCopyWarning:\n",
      "\n",
      "\n",
      "A value is trying to be set on a copy of a slice from a DataFrame\n",
      "\n",
      "See the caveats in the documentation: https://pandas.pydata.org/pandas-docs/stable/user_guide/indexing.html#returning-a-view-versus-a-copy\n",
      "\n",
      "..\\data.py:50: SettingWithCopyWarning:\n",
      "\n",
      "\n",
      "A value is trying to be set on a copy of a slice from a DataFrame.\n",
      "Try using .loc[row_indexer,col_indexer] = value instead\n",
      "\n",
      "See the caveats in the documentation: https://pandas.pydata.org/pandas-docs/stable/user_guide/indexing.html#returning-a-view-versus-a-copy\n",
      "\n",
      "..\\data.py:51: SettingWithCopyWarning:\n",
      "\n",
      "\n",
      "A value is trying to be set on a copy of a slice from a DataFrame\n",
      "\n",
      "See the caveats in the documentation: https://pandas.pydata.org/pandas-docs/stable/user_guide/indexing.html#returning-a-view-versus-a-copy\n",
      "\n",
      "..\\data.py:50: SettingWithCopyWarning:\n",
      "\n",
      "\n",
      "A value is trying to be set on a copy of a slice from a DataFrame.\n",
      "Try using .loc[row_indexer,col_indexer] = value instead\n",
      "\n",
      "See the caveats in the documentation: https://pandas.pydata.org/pandas-docs/stable/user_guide/indexing.html#returning-a-view-versus-a-copy\n",
      "\n",
      "..\\data.py:51: SettingWithCopyWarning:\n",
      "\n",
      "\n",
      "A value is trying to be set on a copy of a slice from a DataFrame\n",
      "\n",
      "See the caveats in the documentation: https://pandas.pydata.org/pandas-docs/stable/user_guide/indexing.html#returning-a-view-versus-a-copy\n",
      "\n",
      "..\\data.py:50: SettingWithCopyWarning:\n",
      "\n",
      "\n",
      "A value is trying to be set on a copy of a slice from a DataFrame.\n",
      "Try using .loc[row_indexer,col_indexer] = value instead\n",
      "\n",
      "See the caveats in the documentation: https://pandas.pydata.org/pandas-docs/stable/user_guide/indexing.html#returning-a-view-versus-a-copy\n",
      "\n",
      "..\\data.py:51: SettingWithCopyWarning:\n",
      "\n",
      "\n",
      "A value is trying to be set on a copy of a slice from a DataFrame\n",
      "\n",
      "See the caveats in the documentation: https://pandas.pydata.org/pandas-docs/stable/user_guide/indexing.html#returning-a-view-versus-a-copy\n",
      "\n"
     ]
    },
    {
     "name": "stderr",
     "output_type": "stream",
     "text": [
      "..\\data.py:50: SettingWithCopyWarning:\n",
      "\n",
      "\n",
      "A value is trying to be set on a copy of a slice from a DataFrame.\n",
      "Try using .loc[row_indexer,col_indexer] = value instead\n",
      "\n",
      "See the caveats in the documentation: https://pandas.pydata.org/pandas-docs/stable/user_guide/indexing.html#returning-a-view-versus-a-copy\n",
      "\n",
      "..\\data.py:51: SettingWithCopyWarning:\n",
      "\n",
      "\n",
      "A value is trying to be set on a copy of a slice from a DataFrame\n",
      "\n",
      "See the caveats in the documentation: https://pandas.pydata.org/pandas-docs/stable/user_guide/indexing.html#returning-a-view-versus-a-copy\n",
      "\n",
      "..\\data.py:50: SettingWithCopyWarning:\n",
      "\n",
      "\n",
      "A value is trying to be set on a copy of a slice from a DataFrame.\n",
      "Try using .loc[row_indexer,col_indexer] = value instead\n",
      "\n",
      "See the caveats in the documentation: https://pandas.pydata.org/pandas-docs/stable/user_guide/indexing.html#returning-a-view-versus-a-copy\n",
      "\n",
      "..\\data.py:51: SettingWithCopyWarning:\n",
      "\n",
      "\n",
      "A value is trying to be set on a copy of a slice from a DataFrame\n",
      "\n",
      "See the caveats in the documentation: https://pandas.pydata.org/pandas-docs/stable/user_guide/indexing.html#returning-a-view-versus-a-copy\n",
      "\n",
      "..\\data.py:50: SettingWithCopyWarning:\n",
      "\n",
      "\n",
      "A value is trying to be set on a copy of a slice from a DataFrame.\n",
      "Try using .loc[row_indexer,col_indexer] = value instead\n",
      "\n",
      "See the caveats in the documentation: https://pandas.pydata.org/pandas-docs/stable/user_guide/indexing.html#returning-a-view-versus-a-copy\n",
      "\n",
      "..\\data.py:51: SettingWithCopyWarning:\n",
      "\n",
      "\n",
      "A value is trying to be set on a copy of a slice from a DataFrame\n",
      "\n",
      "See the caveats in the documentation: https://pandas.pydata.org/pandas-docs/stable/user_guide/indexing.html#returning-a-view-versus-a-copy\n",
      "\n",
      "..\\data.py:50: SettingWithCopyWarning:\n",
      "\n",
      "\n",
      "A value is trying to be set on a copy of a slice from a DataFrame.\n",
      "Try using .loc[row_indexer,col_indexer] = value instead\n",
      "\n",
      "See the caveats in the documentation: https://pandas.pydata.org/pandas-docs/stable/user_guide/indexing.html#returning-a-view-versus-a-copy\n",
      "\n",
      "..\\data.py:51: SettingWithCopyWarning:\n",
      "\n",
      "\n",
      "A value is trying to be set on a copy of a slice from a DataFrame\n",
      "\n",
      "See the caveats in the documentation: https://pandas.pydata.org/pandas-docs/stable/user_guide/indexing.html#returning-a-view-versus-a-copy\n",
      "\n",
      "..\\data.py:50: SettingWithCopyWarning:\n",
      "\n",
      "\n",
      "A value is trying to be set on a copy of a slice from a DataFrame.\n",
      "Try using .loc[row_indexer,col_indexer] = value instead\n",
      "\n",
      "See the caveats in the documentation: https://pandas.pydata.org/pandas-docs/stable/user_guide/indexing.html#returning-a-view-versus-a-copy\n",
      "\n",
      "..\\data.py:51: SettingWithCopyWarning:\n",
      "\n",
      "\n",
      "A value is trying to be set on a copy of a slice from a DataFrame\n",
      "\n",
      "See the caveats in the documentation: https://pandas.pydata.org/pandas-docs/stable/user_guide/indexing.html#returning-a-view-versus-a-copy\n",
      "\n"
     ]
    }
   ],
   "source": [
    "word_appearence = {}\n",
    "for cl in classes: \n",
    "    p_class_active = set(sum(load_protein_class(cl, 'active').values(), []))\n",
    "    p_class_inactive = set(sum(load_protein_class(cl, 'inactive').values(), []))\n",
    "    p_class = pd.DataFrame(p_class_active | p_class_inactive, columns=['smiles'])\n",
    "    p_class['words'] = p_class['smiles'].apply(lambda s: chem_tokenizer.encode(s).tokens)\n",
    "    word_appearence[cl] = p_class.drop_duplicates('smiles').explode('words')['words'].value_counts().reset_index().shape[0]"
   ]
  },
  {
   "cell_type": "code",
   "execution_count": 47,
   "metadata": {},
   "outputs": [
    {
     "data": {
      "text/plain": [
       "{'epigenetic-regulators': 62.74999999999999,\n",
       " 'hydrolases': 92.25,\n",
       " 'ion-channels': 80.10000000000001,\n",
       " 'membrane-receptors': 93.4125,\n",
       " 'other-enzymes': 77.14999999999999,\n",
       " 'oxidoreductases': 86.4375,\n",
       " 'proteases': 88.53750000000001,\n",
       " 'transcription-factors': 75.5,\n",
       " 'transferases': 92.7625,\n",
       " 'transporters': 68.475}"
      ]
     },
     "execution_count": 47,
     "metadata": {},
     "output_type": "execute_result"
    }
   ],
   "source": [
    "{p_class: count / chem_tokenizer.get_vocab_size() * 100 for p_class, count in word_appearence.items()}"
   ]
  },
  {
   "cell_type": "code",
   "execution_count": 48,
   "metadata": {},
   "outputs": [],
   "source": [
    "from pathlib import Path \n",
    "bdb = pd.read_csv('../data/bdb/interactions.csv')"
   ]
  },
  {
   "cell_type": "code",
   "execution_count": 49,
   "metadata": {},
   "outputs": [],
   "source": [
    "# df = pd.read_csv('../data/bdb/pfams.csv')\n",
    "# family_to_prot = df.groupby('pfam_id')['prot_id'].apply(list).to_dict()\n",
    "# family_to_count = {family: str(len(prot)) for family, prot in family_to_prot.items()}\n",
    "# family_to_name = df.groupby('pfam_id')['pfam_name'].first().to_dict()\n",
    "# prot_to_family = df.groupby('prot_id')['pfam_id'].first().to_dict()"
   ]
  },
  {
   "cell_type": "markdown",
   "metadata": {},
   "source": [
    "## BDB dataset includes affinity measurements for 490 proteins and 924 ligands."
   ]
  },
  {
   "cell_type": "code",
   "execution_count": 50,
   "metadata": {},
   "outputs": [
    {
     "data": {
      "text/plain": [
       "(490, 924)"
      ]
     },
     "execution_count": 50,
     "metadata": {},
     "output_type": "execute_result"
    }
   ],
   "source": [
    "bdb['prot_id'].nunique(), bdb['smiles'].nunique()"
   ]
  },
  {
   "cell_type": "code",
   "execution_count": 51,
   "metadata": {},
   "outputs": [],
   "source": [
    "bdb['words'] = bdb['smiles'].apply(lambda s: chem_tokenizer.encode(s).tokens)"
   ]
  },
  {
   "cell_type": "markdown",
   "metadata": {},
   "source": [
    "## Chemical Word Statistics"
   ]
  },
  {
   "cell_type": "markdown",
   "metadata": {},
   "source": [
    "### Only 20% of 8K chemical words appear in BDB ligands."
   ]
  },
  {
   "cell_type": "code",
   "execution_count": 52,
   "metadata": {},
   "outputs": [
    {
     "data": {
      "text/html": [
       "<div>\n",
       "<style scoped>\n",
       "    .dataframe tbody tr th:only-of-type {\n",
       "        vertical-align: middle;\n",
       "    }\n",
       "\n",
       "    .dataframe tbody tr th {\n",
       "        vertical-align: top;\n",
       "    }\n",
       "\n",
       "    .dataframe thead th {\n",
       "        text-align: right;\n",
       "    }\n",
       "</style>\n",
       "<table border=\"1\" class=\"dataframe\">\n",
       "  <thead>\n",
       "    <tr style=\"text-align: right;\">\n",
       "      <th></th>\n",
       "      <th>index</th>\n",
       "      <th>words</th>\n",
       "    </tr>\n",
       "  </thead>\n",
       "  <tbody>\n",
       "    <tr>\n",
       "      <th>0</th>\n",
       "      <td>S</td>\n",
       "      <td>369</td>\n",
       "    </tr>\n",
       "    <tr>\n",
       "      <th>1</th>\n",
       "      <td>([O-])</td>\n",
       "      <td>343</td>\n",
       "    </tr>\n",
       "    <tr>\n",
       "      <th>2</th>\n",
       "      <td>(=O)=O)</td>\n",
       "      <td>308</td>\n",
       "    </tr>\n",
       "    <tr>\n",
       "      <th>3</th>\n",
       "      <td>C(O)</td>\n",
       "      <td>177</td>\n",
       "    </tr>\n",
       "    <tr>\n",
       "      <th>4</th>\n",
       "      <td>=O</td>\n",
       "      <td>124</td>\n",
       "    </tr>\n",
       "    <tr>\n",
       "      <th>...</th>\n",
       "      <td>...</td>\n",
       "      <td>...</td>\n",
       "    </tr>\n",
       "    <tr>\n",
       "      <th>1596</th>\n",
       "      <td>CCN(CCO)</td>\n",
       "      <td>1</td>\n",
       "    </tr>\n",
       "    <tr>\n",
       "      <th>1597</th>\n",
       "      <td>c2cccc(O)</td>\n",
       "      <td>1</td>\n",
       "    </tr>\n",
       "    <tr>\n",
       "      <th>1598</th>\n",
       "      <td>c2nnc(C</td>\n",
       "      <td>1</td>\n",
       "    </tr>\n",
       "    <tr>\n",
       "      <th>1599</th>\n",
       "      <td>=</td>\n",
       "      <td>1</td>\n",
       "    </tr>\n",
       "    <tr>\n",
       "      <th>1600</th>\n",
       "      <td>c(CC=C(C)C)</td>\n",
       "      <td>1</td>\n",
       "    </tr>\n",
       "  </tbody>\n",
       "</table>\n",
       "<p>1601 rows × 2 columns</p>\n",
       "</div>"
      ],
      "text/plain": [
       "            index  words\n",
       "0               S    369\n",
       "1          ([O-])    343\n",
       "2         (=O)=O)    308\n",
       "3            C(O)    177\n",
       "4              =O    124\n",
       "...           ...    ...\n",
       "1596     CCN(CCO)      1\n",
       "1597    c2cccc(O)      1\n",
       "1598      c2nnc(C      1\n",
       "1599            =      1\n",
       "1600  c(CC=C(C)C)      1\n",
       "\n",
       "[1601 rows x 2 columns]"
      ]
     },
     "execution_count": 52,
     "metadata": {},
     "output_type": "execute_result"
    }
   ],
   "source": [
    "bdb.drop_duplicates('smiles').explode('words')['words'].value_counts().reset_index()"
   ]
  },
  {
   "cell_type": "markdown",
   "metadata": {},
   "source": [
    "### 80% of the chemical words in BDB ligands are shared between strong and weak binders, but 200 and 210 unique words are exclusive to each respective set."
   ]
  },
  {
   "cell_type": "code",
   "execution_count": 53,
   "metadata": {},
   "outputs": [
    {
     "data": {
      "text/plain": [
       "(1391, 1401)"
      ]
     },
     "execution_count": 53,
     "metadata": {},
     "output_type": "execute_result"
    }
   ],
   "source": [
    "bdb_active = bdb.query('affinity_score > 7')\n",
    "bdb_inactive = bdb.query('affinity_score < 7')\n",
    "bdb_active_word_freq = bdb_active.drop_duplicates('smiles').explode('words')['words'].value_counts().reset_index()\n",
    "bdb_inactive_word_freq = bdb_inactive.drop_duplicates('smiles').explode('words')['words'].value_counts().reset_index()\n",
    "bdb_active_word_freq.shape[0], bdb_inactive_word_freq.shape[0]"
   ]
  },
  {
   "cell_type": "code",
   "execution_count": 54,
   "metadata": {},
   "outputs": [
    {
     "data": {
      "text/plain": [
       "(<a list of 30 Patch objects>, <a list of 30 Patch objects>)"
      ]
     },
     "execution_count": 54,
     "metadata": {},
     "output_type": "execute_result"
    },
    {
     "data": {
      "image/png": "[encoded data removed]",
      "text/plain": [
       "<Figure size 432x288 with 1 Axes>"
      ]
     },
     "metadata": {},
     "output_type": "display_data"
    }
   ],
   "source": [
    "_, _, ax1 = plt.hist(bdb_active_word_freq['words'], log=True, bins=30, alpha=0.4)\n",
    "_, _, ax2 = plt.hist(bdb_inactive_word_freq['words'], log=True, bins=30,  alpha=0.4)\n",
    "ax1, ax2"
   ]
  },
  {
   "cell_type": "code",
   "execution_count": 55,
   "metadata": {},
   "outputs": [
    {
     "data": {
      "text/plain": [
       "(200, 210)"
      ]
     },
     "execution_count": 55,
     "metadata": {},
     "output_type": "execute_result"
    }
   ],
   "source": [
    "active_word_list = bdb_active_word_freq['index'].tolist() \n",
    "inactive_word_list = bdb_inactive_word_freq['index'].tolist() \n",
    "unique_active_words = set(active_word_list) - set(inactive_word_list)\n",
    "unique_inactive_words = set(inactive_word_list) - set(active_word_list)\n",
    "len(unique_active_words), len(unique_inactive_words)"
   ]
  },
  {
   "cell_type": "code",
   "execution_count": 56,
   "metadata": {},
   "outputs": [
    {
     "data": {
      "text/html": [
       "<div>\n",
       "<style scoped>\n",
       "    .dataframe tbody tr th:only-of-type {\n",
       "        vertical-align: middle;\n",
       "    }\n",
       "\n",
       "    .dataframe tbody tr th {\n",
       "        vertical-align: top;\n",
       "    }\n",
       "\n",
       "    .dataframe thead th {\n",
       "        text-align: right;\n",
       "    }\n",
       "</style>\n",
       "<table border=\"1\" class=\"dataframe\">\n",
       "  <thead>\n",
       "    <tr style=\"text-align: right;\">\n",
       "      <th></th>\n",
       "      <th>index</th>\n",
       "      <th>words</th>\n",
       "    </tr>\n",
       "  </thead>\n",
       "  <tbody>\n",
       "    <tr>\n",
       "      <th>159</th>\n",
       "      <td>CN4</td>\n",
       "      <td>11</td>\n",
       "    </tr>\n",
       "    <tr>\n",
       "      <th>235</th>\n",
       "      <td>O[C@@H](</td>\n",
       "      <td>7</td>\n",
       "    </tr>\n",
       "    <tr>\n",
       "      <th>257</th>\n",
       "      <td>CC4)cc3)</td>\n",
       "      <td>7</td>\n",
       "    </tr>\n",
       "    <tr>\n",
       "      <th>280</th>\n",
       "      <td>CC(C)OC(=O)</td>\n",
       "      <td>6</td>\n",
       "    </tr>\n",
       "    <tr>\n",
       "      <th>293</th>\n",
       "      <td>c2cc3ccc(</td>\n",
       "      <td>6</td>\n",
       "    </tr>\n",
       "    <tr>\n",
       "      <th>...</th>\n",
       "      <td>...</td>\n",
       "      <td>...</td>\n",
       "    </tr>\n",
       "    <tr>\n",
       "      <th>1369</th>\n",
       "      <td>c24)</td>\n",
       "      <td>1</td>\n",
       "    </tr>\n",
       "    <tr>\n",
       "      <th>1372</th>\n",
       "      <td>CC2=O)</td>\n",
       "      <td>1</td>\n",
       "    </tr>\n",
       "    <tr>\n",
       "      <th>1376</th>\n",
       "      <td>C[C@]1</td>\n",
       "      <td>1</td>\n",
       "    </tr>\n",
       "    <tr>\n",
       "      <th>1382</th>\n",
       "      <td>C(=O)O[C@@H]1</td>\n",
       "      <td>1</td>\n",
       "    </tr>\n",
       "    <tr>\n",
       "      <th>1390</th>\n",
       "      <td>CCc1ccccc1</td>\n",
       "      <td>1</td>\n",
       "    </tr>\n",
       "  </tbody>\n",
       "</table>\n",
       "<p>200 rows × 2 columns</p>\n",
       "</div>"
      ],
      "text/plain": [
       "              index  words\n",
       "159             CN4     11\n",
       "235        O[C@@H](      7\n",
       "257        CC4)cc3)      7\n",
       "280     CC(C)OC(=O)      6\n",
       "293       c2cc3ccc(      6\n",
       "...             ...    ...\n",
       "1369           c24)      1\n",
       "1372         CC2=O)      1\n",
       "1376         C[C@]1      1\n",
       "1382  C(=O)O[C@@H]1      1\n",
       "1390     CCc1ccccc1      1\n",
       "\n",
       "[200 rows x 2 columns]"
      ]
     },
     "execution_count": 56,
     "metadata": {},
     "output_type": "execute_result"
    }
   ],
   "source": [
    "bdb_active_word_freq[bdb_active_word_freq['index'].isin(unique_active_words)]"
   ]
  },
  {
   "cell_type": "code",
   "execution_count": 57,
   "metadata": {},
   "outputs": [
    {
     "data": {
      "text/html": [
       "<div>\n",
       "<style scoped>\n",
       "    .dataframe tbody tr th:only-of-type {\n",
       "        vertical-align: middle;\n",
       "    }\n",
       "\n",
       "    .dataframe tbody tr th {\n",
       "        vertical-align: top;\n",
       "    }\n",
       "\n",
       "    .dataframe thead th {\n",
       "        text-align: right;\n",
       "    }\n",
       "</style>\n",
       "<table border=\"1\" class=\"dataframe\">\n",
       "  <thead>\n",
       "    <tr style=\"text-align: right;\">\n",
       "      <th></th>\n",
       "      <th>index</th>\n",
       "      <th>words</th>\n",
       "    </tr>\n",
       "  </thead>\n",
       "  <tbody>\n",
       "    <tr>\n",
       "      <th>61</th>\n",
       "      <td>C(F)(F)C(F)(F)C(F)(F)C(F)(F)</td>\n",
       "      <td>21</td>\n",
       "    </tr>\n",
       "    <tr>\n",
       "      <th>70</th>\n",
       "      <td>C(F)(F)C(F)(F)</td>\n",
       "      <td>20</td>\n",
       "    </tr>\n",
       "    <tr>\n",
       "      <th>75</th>\n",
       "      <td>O[C@H](CO)[C@@H](O</td>\n",
       "      <td>20</td>\n",
       "    </tr>\n",
       "    <tr>\n",
       "      <th>76</th>\n",
       "      <td>CO[C@H]1</td>\n",
       "      <td>20</td>\n",
       "    </tr>\n",
       "    <tr>\n",
       "      <th>105</th>\n",
       "      <td>[C@H]1NC(C)=O</td>\n",
       "      <td>15</td>\n",
       "    </tr>\n",
       "    <tr>\n",
       "      <th>...</th>\n",
       "      <td>...</td>\n",
       "      <td>...</td>\n",
       "    </tr>\n",
       "    <tr>\n",
       "      <th>1368</th>\n",
       "      <td>)N(</td>\n",
       "      <td>1</td>\n",
       "    </tr>\n",
       "    <tr>\n",
       "      <th>1374</th>\n",
       "      <td>CC2)n1</td>\n",
       "      <td>1</td>\n",
       "    </tr>\n",
       "    <tr>\n",
       "      <th>1376</th>\n",
       "      <td>Cl)c1</td>\n",
       "      <td>1</td>\n",
       "    </tr>\n",
       "    <tr>\n",
       "      <th>1390</th>\n",
       "      <td>c1ccccc1)c1ccccc1)</td>\n",
       "      <td>1</td>\n",
       "    </tr>\n",
       "    <tr>\n",
       "      <th>1400</th>\n",
       "      <td>CCCCO</td>\n",
       "      <td>1</td>\n",
       "    </tr>\n",
       "  </tbody>\n",
       "</table>\n",
       "<p>210 rows × 2 columns</p>\n",
       "</div>"
      ],
      "text/plain": [
       "                             index  words\n",
       "61    C(F)(F)C(F)(F)C(F)(F)C(F)(F)     21\n",
       "70                  C(F)(F)C(F)(F)     20\n",
       "75              O[C@H](CO)[C@@H](O     20\n",
       "76                        CO[C@H]1     20\n",
       "105                  [C@H]1NC(C)=O     15\n",
       "...                            ...    ...\n",
       "1368                           )N(      1\n",
       "1374                        CC2)n1      1\n",
       "1376                         Cl)c1      1\n",
       "1390            c1ccccc1)c1ccccc1)      1\n",
       "1400                         CCCCO      1\n",
       "\n",
       "[210 rows x 2 columns]"
      ]
     },
     "execution_count": 57,
     "metadata": {},
     "output_type": "execute_result"
    }
   ],
   "source": [
    "bdb_inactive_word_freq[bdb_inactive_word_freq['index'].isin(unique_inactive_words)]"
   ]
  },
  {
   "cell_type": "markdown",
   "metadata": {},
   "source": [
    "### Ratio of *valid* words are the same for strong binding and week binding ligands: ~0.2"
   ]
  },
  {
   "cell_type": "code",
   "execution_count": 58,
   "metadata": {},
   "outputs": [],
   "source": [
    "from rdkit import Chem \n",
    "bdb_active_word_freq['valid_word'] = bdb_active_word_freq['index'].apply(lambda w: Chem.MolFromSmiles(w) is not None)\n",
    "bdb_inactive_word_freq['valid_word'] = bdb_inactive_word_freq['index'].apply(lambda w: Chem.MolFromSmiles(w) is not None)"
   ]
  },
  {
   "cell_type": "code",
   "execution_count": 59,
   "metadata": {},
   "outputs": [
    {
     "data": {
      "text/plain": [
       "False    1112\n",
       "True      279\n",
       "Name: valid_word, dtype: int64"
      ]
     },
     "execution_count": 59,
     "metadata": {},
     "output_type": "execute_result"
    }
   ],
   "source": [
    "bdb_active_word_freq['valid_word'].value_counts()"
   ]
  },
  {
   "cell_type": "code",
   "execution_count": 60,
   "metadata": {},
   "outputs": [
    {
     "data": {
      "text/plain": [
       "False    1121\n",
       "True      280\n",
       "Name: valid_word, dtype: int64"
      ]
     },
     "execution_count": 60,
     "metadata": {},
     "output_type": "execute_result"
    }
   ],
   "source": [
    "bdb_inactive_word_freq['valid_word'].value_counts()"
   ]
  },
  {
   "cell_type": "markdown",
   "metadata": {},
   "source": [
    "### ~90% of chemical words occur less than 12 times"
   ]
  },
  {
   "cell_type": "code",
   "execution_count": 61,
   "metadata": {},
   "outputs": [
    {
     "data": {
      "image/png": "[encoded data removed]",
      "text/plain": [
       "<Figure size 720x360 with 1 Axes>"
      ]
     },
     "metadata": {},
     "output_type": "display_data"
    }
   ],
   "source": [
    "plt.figure(figsize=(10, 5))\n",
    "bdb_words_with_freqs = pd.merge(bdb_active_word_freq, bdb_inactive_word_freq, on='index', suffixes=('_active', '_inactive'), how='outer')\n",
    "bdb_words_with_freqs['words_active'].quantile([i/100 for i in range(101)]).reset_index().groupby('words_active')['index'].max().plot.bar(x='words_active', y='index')\n",
    "plt.yticks([i/100 for i in range(0, 101, 10)])\n",
    "plt.show()"
   ]
  },
  {
   "cell_type": "code",
   "execution_count": 62,
   "metadata": {},
   "outputs": [
    {
     "data": {
      "image/png": "[encoded data removed]",
      "text/plain": [
       "<Figure size 720x360 with 1 Axes>"
      ]
     },
     "metadata": {},
     "output_type": "display_data"
    }
   ],
   "source": [
    "plt.figure(figsize=(10, 5))\n",
    "bdb_words_with_freqs['words_inactive'].quantile([i/100 for i in range(101)]).reset_index().groupby('words_inactive')['index'].max().plot.bar(x='words_inactive', y='index')\n",
    "plt.yticks([i/100 for i in range(0, 101, 10)])\n",
    "plt.show()"
   ]
  },
  {
   "cell_type": "markdown",
   "metadata": {},
   "source": [
    "### Chemical word frequency distributions are similar for strong binders and weak binders"
   ]
  },
  {
   "cell_type": "code",
   "execution_count": 63,
   "metadata": {},
   "outputs": [
    {
     "data": {
      "text/plain": [
       "<matplotlib.axes._subplots.AxesSubplot at 0x1d189dcedd8>"
      ]
     },
     "execution_count": 63,
     "metadata": {},
     "output_type": "execute_result"
    },
    {
     "data": {
      "image/png": "[encoded data removed]",
      "text/plain": [
       "<Figure size 1080x360 with 1 Axes>"
      ]
     },
     "metadata": {},
     "output_type": "display_data"
    }
   ],
   "source": [
    "plt.figure(figsize=(15, 5))\n",
    "sns.histplot(bdb_words_with_freqs[['words_active', 'words_inactive']].melt(), x='value', hue='variable',\n",
    "             multiple='dodge', shrink=.75, bins=40, log_scale=True)"
   ]
  },
  {
   "cell_type": "markdown",
   "metadata": {},
   "source": [
    "## PFAM family analyses"
   ]
  },
  {
   "cell_type": "code",
   "execution_count": 64,
   "metadata": {},
   "outputs": [
    {
     "ename": "NameError",
     "evalue": "name 'prot_to_family' is not defined",
     "output_type": "error",
     "traceback": [
      "\u001b[1;31m---------------------------------------------------------------------------\u001b[0m",
      "\u001b[1;31mNameError\u001b[0m                                 Traceback (most recent call last)",
      "\u001b[1;32m<ipython-input-64-08c456d1e410>\u001b[0m in \u001b[0;36m<module>\u001b[1;34m\u001b[0m\n\u001b[0;32m      1\u001b[0m \u001b[0mbdb_relevant\u001b[0m \u001b[1;33m=\u001b[0m \u001b[0mbdb\u001b[0m\u001b[1;33m[\u001b[0m\u001b[1;33m[\u001b[0m\u001b[1;34m'ligand_id'\u001b[0m\u001b[1;33m,\u001b[0m \u001b[1;34m'prot_id'\u001b[0m\u001b[1;33m,\u001b[0m \u001b[1;34m'affinity_score'\u001b[0m\u001b[1;33m,\u001b[0m \u001b[1;34m'words'\u001b[0m\u001b[1;33m]\u001b[0m\u001b[1;33m]\u001b[0m\u001b[1;33m\u001b[0m\u001b[1;33m\u001b[0m\u001b[0m\n\u001b[1;32m----> 2\u001b[1;33m \u001b[0mbdb_relevant\u001b[0m\u001b[1;33m[\u001b[0m\u001b[1;34m'pfam_id'\u001b[0m\u001b[1;33m]\u001b[0m \u001b[1;33m=\u001b[0m \u001b[0mbdb_relevant\u001b[0m\u001b[1;33m[\u001b[0m\u001b[1;34m'prot_id'\u001b[0m\u001b[1;33m]\u001b[0m\u001b[1;33m.\u001b[0m\u001b[0mapply\u001b[0m\u001b[1;33m(\u001b[0m\u001b[1;32mlambda\u001b[0m \u001b[0mp\u001b[0m\u001b[1;33m:\u001b[0m \u001b[0mprot_to_family\u001b[0m\u001b[1;33m[\u001b[0m\u001b[0mp\u001b[0m\u001b[1;33m]\u001b[0m\u001b[1;33m)\u001b[0m\u001b[1;33m\u001b[0m\u001b[1;33m\u001b[0m\u001b[0m\n\u001b[0m\u001b[0;32m      3\u001b[0m \u001b[0mbdb_words\u001b[0m \u001b[1;33m=\u001b[0m \u001b[0mbdb_relevant\u001b[0m\u001b[1;33m.\u001b[0m\u001b[0mexplode\u001b[0m\u001b[1;33m(\u001b[0m\u001b[1;34m'words'\u001b[0m\u001b[1;33m)\u001b[0m\u001b[1;33m\u001b[0m\u001b[1;33m\u001b[0m\u001b[0m\n\u001b[0;32m      4\u001b[0m \u001b[1;31m# bdb_words.to_csv('../data/bdb/word.csv', index=False)\u001b[0m\u001b[1;33m\u001b[0m\u001b[1;33m\u001b[0m\u001b[1;33m\u001b[0m\u001b[0m\n",
      "\u001b[1;32m~\\Anaconda3\\envs\\transformers\\lib\\site-packages\\pandas\\core\\series.py\u001b[0m in \u001b[0;36mapply\u001b[1;34m(self, func, convert_dtype, args, **kwds)\u001b[0m\n\u001b[0;32m   4198\u001b[0m             \u001b[1;32melse\u001b[0m\u001b[1;33m:\u001b[0m\u001b[1;33m\u001b[0m\u001b[1;33m\u001b[0m\u001b[0m\n\u001b[0;32m   4199\u001b[0m                 \u001b[0mvalues\u001b[0m \u001b[1;33m=\u001b[0m \u001b[0mself\u001b[0m\u001b[1;33m.\u001b[0m\u001b[0mastype\u001b[0m\u001b[1;33m(\u001b[0m\u001b[0mobject\u001b[0m\u001b[1;33m)\u001b[0m\u001b[1;33m.\u001b[0m\u001b[0m_values\u001b[0m\u001b[1;33m\u001b[0m\u001b[1;33m\u001b[0m\u001b[0m\n\u001b[1;32m-> 4200\u001b[1;33m                 \u001b[0mmapped\u001b[0m \u001b[1;33m=\u001b[0m \u001b[0mlib\u001b[0m\u001b[1;33m.\u001b[0m\u001b[0mmap_infer\u001b[0m\u001b[1;33m(\u001b[0m\u001b[0mvalues\u001b[0m\u001b[1;33m,\u001b[0m \u001b[0mf\u001b[0m\u001b[1;33m,\u001b[0m \u001b[0mconvert\u001b[0m\u001b[1;33m=\u001b[0m\u001b[0mconvert_dtype\u001b[0m\u001b[1;33m)\u001b[0m\u001b[1;33m\u001b[0m\u001b[1;33m\u001b[0m\u001b[0m\n\u001b[0m\u001b[0;32m   4201\u001b[0m \u001b[1;33m\u001b[0m\u001b[0m\n\u001b[0;32m   4202\u001b[0m         \u001b[1;32mif\u001b[0m \u001b[0mlen\u001b[0m\u001b[1;33m(\u001b[0m\u001b[0mmapped\u001b[0m\u001b[1;33m)\u001b[0m \u001b[1;32mand\u001b[0m \u001b[0misinstance\u001b[0m\u001b[1;33m(\u001b[0m\u001b[0mmapped\u001b[0m\u001b[1;33m[\u001b[0m\u001b[1;36m0\u001b[0m\u001b[1;33m]\u001b[0m\u001b[1;33m,\u001b[0m \u001b[0mSeries\u001b[0m\u001b[1;33m)\u001b[0m\u001b[1;33m:\u001b[0m\u001b[1;33m\u001b[0m\u001b[1;33m\u001b[0m\u001b[0m\n",
      "\u001b[1;32mpandas\\_libs\\lib.pyx\u001b[0m in \u001b[0;36mpandas._libs.lib.map_infer\u001b[1;34m()\u001b[0m\n",
      "\u001b[1;32m<ipython-input-64-08c456d1e410>\u001b[0m in \u001b[0;36m<lambda>\u001b[1;34m(p)\u001b[0m\n\u001b[0;32m      1\u001b[0m \u001b[0mbdb_relevant\u001b[0m \u001b[1;33m=\u001b[0m \u001b[0mbdb\u001b[0m\u001b[1;33m[\u001b[0m\u001b[1;33m[\u001b[0m\u001b[1;34m'ligand_id'\u001b[0m\u001b[1;33m,\u001b[0m \u001b[1;34m'prot_id'\u001b[0m\u001b[1;33m,\u001b[0m \u001b[1;34m'affinity_score'\u001b[0m\u001b[1;33m,\u001b[0m \u001b[1;34m'words'\u001b[0m\u001b[1;33m]\u001b[0m\u001b[1;33m]\u001b[0m\u001b[1;33m\u001b[0m\u001b[1;33m\u001b[0m\u001b[0m\n\u001b[1;32m----> 2\u001b[1;33m \u001b[0mbdb_relevant\u001b[0m\u001b[1;33m[\u001b[0m\u001b[1;34m'pfam_id'\u001b[0m\u001b[1;33m]\u001b[0m \u001b[1;33m=\u001b[0m \u001b[0mbdb_relevant\u001b[0m\u001b[1;33m[\u001b[0m\u001b[1;34m'prot_id'\u001b[0m\u001b[1;33m]\u001b[0m\u001b[1;33m.\u001b[0m\u001b[0mapply\u001b[0m\u001b[1;33m(\u001b[0m\u001b[1;32mlambda\u001b[0m \u001b[0mp\u001b[0m\u001b[1;33m:\u001b[0m \u001b[0mprot_to_family\u001b[0m\u001b[1;33m[\u001b[0m\u001b[0mp\u001b[0m\u001b[1;33m]\u001b[0m\u001b[1;33m)\u001b[0m\u001b[1;33m\u001b[0m\u001b[1;33m\u001b[0m\u001b[0m\n\u001b[0m\u001b[0;32m      3\u001b[0m \u001b[0mbdb_words\u001b[0m \u001b[1;33m=\u001b[0m \u001b[0mbdb_relevant\u001b[0m\u001b[1;33m.\u001b[0m\u001b[0mexplode\u001b[0m\u001b[1;33m(\u001b[0m\u001b[1;34m'words'\u001b[0m\u001b[1;33m)\u001b[0m\u001b[1;33m\u001b[0m\u001b[1;33m\u001b[0m\u001b[0m\n\u001b[0;32m      4\u001b[0m \u001b[1;31m# bdb_words.to_csv('../data/bdb/word.csv', index=False)\u001b[0m\u001b[1;33m\u001b[0m\u001b[1;33m\u001b[0m\u001b[1;33m\u001b[0m\u001b[0m\n",
      "\u001b[1;31mNameError\u001b[0m: name 'prot_to_family' is not defined"
     ]
    }
   ],
   "source": [
    "bdb_relevant = bdb[['ligand_id', 'prot_id', 'affinity_score', 'words']]\n",
    "bdb_relevant['pfam_id'] = bdb_relevant['prot_id'].apply(lambda p: prot_to_family[p])\n",
    "bdb_words = bdb_relevant.explode('words')\n",
    "# bdb_words.to_csv('../data/bdb/word.csv', index=False)"
   ]
  },
  {
   "cell_type": "code",
   "execution_count": null,
   "metadata": {},
   "outputs": [],
   "source": [
    "bdb_relevant['pfam_id'].nunique()"
   ]
  },
  {
   "cell_type": "markdown",
   "metadata": {},
   "source": [
    "### Interaction counts vary a lot across families."
   ]
  },
  {
   "cell_type": "code",
   "execution_count": null,
   "metadata": {},
   "outputs": [],
   "source": [
    "bdb_relevant['pfam_id'].value_counts()"
   ]
  },
  {
   "cell_type": "markdown",
   "metadata": {},
   "source": [
    "### Similarly, protein counts per family vary a lot."
   ]
  },
  {
   "cell_type": "code",
   "execution_count": null,
   "metadata": {},
   "outputs": [],
   "source": [
    "bdb_protein_per_family = bdb_relevant.drop_duplicates(['pfam_id', 'prot_id']).groupby('pfam_id')['prot_id'].count().reset_index().sort_values(by='prot_id', ascending=False)\n",
    "fig = px.bar(bdb_protein_per_family, x='pfam_id', y='prot_id', title='Number of proteins per family')\n",
    "fig.show()"
   ]
  },
  {
   "cell_type": "code",
   "execution_count": null,
   "metadata": {},
   "outputs": [],
   "source": [
    "bdb_strong_binder_per_family = bdb_relevant.query('affinity_score > 7').drop_duplicates(['pfam_id', 'ligand_id']).groupby('pfam_id')['ligand_id'].count().reset_index().sort_values(by='ligand_id', ascending=False)\n",
    "bdb_weak_binder_per_family = bdb_relevant.query('affinity_score < 7').drop_duplicates(['pfam_id', 'ligand_id']).groupby('pfam_id')['ligand_id'].count().reset_index().sort_values(by='ligand_id', ascending=False)\n",
    "fig = px.bar(bdb_strong_binder_per_family, x='pfam_id', y='ligand_id', title='Number of strong binders per family')\n",
    "fig.show()"
   ]
  },
  {
   "cell_type": "markdown",
   "metadata": {},
   "source": [
    "### 80% of families contain four or fewer proteins, with the largest family having a total of 169 proteins."
   ]
  },
  {
   "cell_type": "code",
   "execution_count": null,
   "metadata": {},
   "outputs": [],
   "source": [
    "bdb_protein_per_family.describe()"
   ]
  },
  {
   "cell_type": "code",
   "execution_count": null,
   "metadata": {},
   "outputs": [],
   "source": [
    "plt.figure(figsize=(10, 5))\n",
    "bdb_protein_per_family['prot_id'].quantile([i/25 for i in range(26)]).reset_index().groupby('prot_id')['index'].max().plot.bar(x='prot_id', y='index')\n",
    "plt.yticks([i/100 for i in range(0, 101, 10)])\n",
    "plt.show()"
   ]
  },
  {
   "cell_type": "markdown",
   "metadata": {},
   "source": [
    "## Family-based Highlighted Words"
   ]
  },
  {
   "cell_type": "markdown",
   "metadata": {},
   "source": [
    "### tf-idf score distribution"
   ]
  },
  {
   "cell_type": "code",
   "execution_count": null,
   "metadata": {},
   "outputs": [],
   "source": [
    "import sys\n",
    "sys.path.append('../')"
   ]
  },
  {
   "cell_type": "code",
   "execution_count": null,
   "metadata": {},
   "outputs": [],
   "source": [
    "from highlighter import identify_highlights\n",
    "from data import load_bdb\n",
    "\n",
    "tf_idf_active, highlighted_words = identify_highlights(load_bdb(binders='active'))\n",
    "tf_idf_active.reset_index(inplace=True)\n",
    "tf_idf_active.rename(columns={\"index\": \"pfam_id\"}, inplace=True)\n",
    "tf_idf_active = tf_idf_active.set_index(\"pfam_id\").T"
   ]
  },
  {
   "cell_type": "code",
   "execution_count": null,
   "metadata": {},
   "outputs": [],
   "source": [
    "highlighted_words['word'] = highlighted_words[highlighted_words.columns[:]].apply(\n",
    "    lambda x: [i for i in ','.join(x.dropna().astype(str)).split(',') if len(i) > 0],\n",
    "    axis=1\n",
    ")\n",
    "highlighted_words"
   ]
  },
  {
   "cell_type": "code",
   "execution_count": null,
   "metadata": {},
   "outputs": [],
   "source": [
    "highlighted_words_freq = highlighted_words.explode('word')['word'].reset_index().groupby('word').count()\n",
    "highlighted_words_freq"
   ]
  },
  {
   "cell_type": "code",
   "execution_count": null,
   "metadata": {},
   "outputs": [],
   "source": [
    "pd.qcut(highlighted_words_freq['index'], 10, duplicates='drop').value_counts()"
   ]
  },
  {
   "cell_type": "code",
   "execution_count": null,
   "metadata": {},
   "outputs": [],
   "source": [
    "highlighted_words_freq['bin'] = pd.cut(highlighted_words_freq['index'], bins=[0, 1, 2, 3, 5, 10, 20], labels=['1', '2', '3', '4-5', '5-10', '10-20'])\n",
    "df_freqs = highlighted_words_freq.groupby('bin')['index'].count().reset_index()\n",
    "df_freqs['percentage'] = df_freqs['index'] / df_freqs['index'].sum() * 100\n",
    "df_freqs"
   ]
  },
  {
   "cell_type": "code",
   "execution_count": null,
   "metadata": {},
   "outputs": [],
   "source": [
    "sns.set(style='ticks', palette='Set2')\n",
    "sns.despine()\n"
   ]
  },
  {
   "cell_type": "code",
   "execution_count": null,
   "metadata": {},
   "outputs": [],
   "source": [
    "!pip install SciencePlots\n",
    "import scienceplots\n",
    "\n",
    "plt.style.use('science')\n",
    "g = sns.histplot(highlighted_words_freq['index'], binwidth=1, stat='percent', discrete=True)\n",
    "g"
   ]
  },
  {
   "cell_type": "code",
   "execution_count": null,
   "metadata": {},
   "outputs": [],
   "source": [
    "g = sns.histplot(highlighted_words_freq['index'], binwidth=1, stat='percent', discrete=True)\n",
    "g"
   ]
  },
  {
   "cell_type": "code",
   "execution_count": null,
   "metadata": {},
   "outputs": [],
   "source": [
    "sns.set(font_scale=1.4)\n",
    "\n",
    "ax = sns.barplot(x='bin', y='percentage', data=df_freqs)\n",
    "ax.set(xlabel='Chemical Word Occurrence', ylabel='Percentage (%)', title='Histogram of Highlighted Chemical Word Occurrences')\n",
    "plt.show()"
   ]
  },
  {
   "cell_type": "code",
   "execution_count": null,
   "metadata": {},
   "outputs": [],
   "source": [
    "tf_idf_active_flat = tf_idf_active.to_numpy().flatten()\n",
    "_, _, ax = plt.hist(tf_idf_active_flat, log=True, bins=50)\n",
    "plt.xlabel(\"tf-idf score\")\n",
    "plt.ylabel(\"chemical word count\")\n",
    "plt.title('tf-idf score distribution')\n",
    "ax"
   ]
  },
  {
   "cell_type": "markdown",
   "metadata": {},
   "source": [
    "### nonzero tf-idf score distribution"
   ]
  },
  {
   "cell_type": "code",
   "execution_count": null,
   "metadata": {},
   "outputs": [],
   "source": [
    "_, _, ax = plt.hist(tf_idf_active_flat[tf_idf_active_flat > 0], log=True, bins=50)\n",
    "plt.xlabel(\"tf-idf score\")\n",
    "plt.ylabel(\"chemical word count\")\n",
    "plt.title('(nonzero) tf-idf score distribution ')\n",
    "ax"
   ]
  },
  {
   "cell_type": "code",
   "execution_count": null,
   "metadata": {},
   "outputs": [],
   "source": [
    "from collections import Counter\n",
    "# highlighted_words.fillna('', inplace=True)\n",
    "\n",
    "highlighted_words_flatten = [w for w in highlighted_words.values.flatten().tolist() if w != ''] \n",
    "highlight_counts = Counter(highlighted_words_flatten)\n",
    "word_family_freq = pd.DataFrame(highlight_counts.most_common(), columns=['word', 'family count'])\n",
    "word_family_freq"
   ]
  },
  {
   "cell_type": "markdown",
   "metadata": {},
   "source": [
    "### Cumulative distribution of highlighted words' occurrences in families\n",
    "~60% of the highlighted words occur in only one family. \n",
    "\n",
    "~80% of the highlighted words occur at most two families. "
   ]
  },
  {
   "cell_type": "code",
   "execution_count": null,
   "metadata": {},
   "outputs": [],
   "source": [
    "word_family_freq['family count'].hist(cumulative=True, density=True, bins=list(range(1, word_family_freq['family count'].max()+1)))\n",
    "plt.xticks(list(range(1, word_family_freq['family count'].max()+1)))\n",
    "plt.xlabel('Chemical word occurrence')\n",
    "plt.ylabel('Percentage (%)')\n",
    "plt.title('Cumulative distribution of highlighted words\\' occurrences in families')\n",
    "plt.show()"
   ]
  },
  {
   "cell_type": "code",
   "execution_count": null,
   "metadata": {},
   "outputs": [],
   "source": [
    "fig = px.bar(word_family_freq, x='word', y='family count', title='Chemical Word Occurrences in PFAM Families')\n",
    "fig.show()"
   ]
  },
  {
   "cell_type": "code",
   "execution_count": null,
   "metadata": {},
   "outputs": [],
   "source": [
    "from highlighter import identify_highlights\n",
    "from data import load_lit_pcba\n",
    "\n",
    "tf_idf_active, highlighted_words = identify_highlights(load_lit_pcba(binders='active'))\n",
    "\n",
    "highlighted_words['word'] = highlighted_words[highlighted_words.columns[:]].apply(\n",
    "    lambda x: [i for i in ','.join(x.dropna().astype(str)).split(',') if len(i) > 0],\n",
    "    axis=1\n",
    ")\n",
    "highlighted_words"
   ]
  },
  {
   "cell_type": "code",
   "execution_count": null,
   "metadata": {},
   "outputs": [],
   "source": [
    "highlighted_words_freq = highlighted_words.explode('word')['word'].reset_index().groupby('word').count()\n",
    "highlighted_words_freq"
   ]
  },
  {
   "cell_type": "code",
   "execution_count": null,
   "metadata": {},
   "outputs": [],
   "source": [
    "pd.qcut(highlighted_words_freq['index'], 10, duplicates='drop').value_counts()"
   ]
  },
  {
   "cell_type": "markdown",
   "metadata": {},
   "source": [
    "### 51(21?) out of 79 families have significantly different tf-idf scores for chemical words in strong and weak binders."
   ]
  },
  {
   "cell_type": "code",
   "execution_count": null,
   "metadata": {},
   "outputs": [],
   "source": [
    "tf_idf_inactive, _ = identify_highlights(load_bdb(binders='inactive'))\n",
    "tf_idf_inactive.reset_index(inplace=True)\n",
    "tf_idf_inactive.rename(columns={\"index\": \"pfam_id\"}, inplace=True)\n",
    "tf_idf_inactive = tf_idf_inactive.set_index(\"pfam_id\").T"
   ]
  },
  {
   "cell_type": "code",
   "execution_count": null,
   "metadata": {},
   "outputs": [],
   "source": [
    "union_index = tf_idf_active.index.union(tf_idf_inactive.index)"
   ]
  },
  {
   "cell_type": "markdown",
   "metadata": {},
   "source": [
    "#### When zero terms are included: 103/168.  When zeros are excluded, 51/168"
   ]
  },
  {
   "cell_type": "code",
   "execution_count": null,
   "metadata": {},
   "outputs": [],
   "source": [
    "from scipy.stats import ranksums\n",
    "family_significance = []\n",
    "for col in set(tf_idf_active.columns) & set(tf_idf_inactive.columns):  \n",
    "    family_df = pd.merge(tf_idf_active[col].reset_index(), tf_idf_inactive[col].reset_index(), on='index', how='outer')\n",
    "    family_df = family_df.fillna(0)\n",
    "    family_df.columns = ['word', 'active', 'inactive']\n",
    "    #ToDo: dropping words occurred none of them increases significant families by 15 (20-> 35)\n",
    "    # family_df = family_df[(family_df['active'] != 0) | (family_df['inactive'] != 0)]\n",
    "    _, upnorm = ranksums(family_df['active'].tolist(), family_df['inactive'].tolist())\n",
    "    family_significance.append({'family': col, 'p-value': upnorm, 'significant': upnorm <= 0.05})\n",
    "test_results = pd.DataFrame(family_significance)\n",
    "test_results['significant'].value_counts()"
   ]
  },
  {
   "cell_type": "code",
   "execution_count": null,
   "metadata": {},
   "outputs": [],
   "source": [
    "test_results"
   ]
  },
  {
   "cell_type": "code",
   "execution_count": null,
   "metadata": {},
   "outputs": [],
   "source": [
    "pfam_family_names = df.groupby('pfam_id')['pfam_name'].first().to_dict()\n",
    "test_results['family_name'] = test_results['family'].map(pfam_family_names)\n",
    "test_results['family_count'] = test_results['family'].map(family_to_count)\n",
    "test_results['family_active_int_count'] = test_results['family'].map(bdb_strong_binder_per_family.set_index('pfam_id')['ligand_id'].to_dict())\n",
    "test_results['family_inactive_int_count'] = test_results['family'].map(bdb_weak_binder_per_family.set_index('pfam_id')['ligand_id'].to_dict())"
   ]
  },
  {
   "cell_type": "code",
   "execution_count": null,
   "metadata": {},
   "outputs": [],
   "source": [
    "test_results.sort_values(by='p-value').to_csv('../results/bdb/significance.csv')"
   ]
  },
  {
   "cell_type": "code",
   "execution_count": null,
   "metadata": {},
   "outputs": [],
   "source": [
    "test_results[[\"family_count\", \"family_active_int_count\", \"family_inactive_int_count\"]] = test_results[[\"family_count\", \"family_active_int_count\", \"family_inactive_int_count\"]].apply(pd.to_numeric)"
   ]
  },
  {
   "cell_type": "code",
   "execution_count": null,
   "metadata": {},
   "outputs": [],
   "source": [
    "sns.displot(test_results, x=\"family_count\", hue=\"significant\", kind=\"kde\", fill=True)"
   ]
  },
  {
   "cell_type": "code",
   "execution_count": null,
   "metadata": {},
   "outputs": [],
   "source": [
    "sns.displot(test_results, x=\"family_active_int_count\", hue=\"significant\", kind=\"kde\", fill=True)"
   ]
  },
  {
   "cell_type": "code",
   "execution_count": null,
   "metadata": {},
   "outputs": [],
   "source": [
    "sns.displot(test_results, x=\"family_inactive_int_count\", hue=\"significant\", kind=\"kde\", fill=True)"
   ]
  },
  {
   "cell_type": "code",
   "execution_count": null,
   "metadata": {},
   "outputs": [],
   "source": [
    "# PF12605: Casein Kinase 1 gamma\n",
    "# PF00850: Histone deacetylase \n",
    "# PF00194: Carbonic anhydrase\n",
    "selected_family = 'PF00850'\n",
    "#selected_family = tfidf_strong.columns[2]"
   ]
  },
  {
   "cell_type": "code",
   "execution_count": null,
   "metadata": {},
   "outputs": [],
   "source": [
    "family_df = pd.merge(tf_idf_active[selected_family].reset_index(), tf_idf_inactive[selected_family].reset_index(), on='index', how='outer')\n",
    "family_df = family_df.fillna(0)\n",
    "family_df.columns = ['word', 'active', 'inactive']\n",
    "family_df = family_df[(family_df['active'] != 0) | (family_df['inactive'] != 0)]\n",
    "print(ranksums(family_df['active'].tolist(), family_df['inactive'].tolist()))\n",
    "#family_df.sort_values(by='active')"
   ]
  },
  {
   "cell_type": "code",
   "execution_count": null,
   "metadata": {},
   "outputs": [],
   "source": [
    "tf_idf_active_chosen =  tf_idf_active[selected_family]\n",
    "tf_idf_active_chosen_nonzero = tf_idf_active_chosen[tf_idf_active_chosen > 0]\n",
    "tf_idf_inactive_chosen =  tf_idf_inactive[selected_family]\n",
    "tf_idf_inactive_chosen_nonzero = tf_idf_inactive_chosen[tf_idf_inactive_chosen > 0]\n",
    "tf_idf_chosen_nonzero = pd.concat([tf_idf_active_chosen_nonzero.reset_index().assign(ligand='active'), tf_idf_inactive_chosen_nonzero.reset_index().assign(ligand='inactive')])\n",
    "fig = px.bar(tf_idf_chosen_nonzero.sort_values(selected_family, ascending=False), x='index', y=selected_family, color='ligand')\n",
    "fig.show()"
   ]
  },
  {
   "cell_type": "markdown",
   "metadata": {},
   "source": [
    "## Overall frequency of words highlighted for families in the manuscript"
   ]
  },
  {
   "cell_type": "code",
   "execution_count": null,
   "metadata": {},
   "outputs": [],
   "source": [
    "# PF12605: Casein Kinase 1 gamma\n",
    "# PF00850: Histone deacetylase \n",
    "# PF00194: Carbonic anhydrase\n",
    "paper_family_list = ['PF12605', 'PF00850', 'PF00194']\n",
    "significant_families = test_results[test_results['significant']]\n",
    "significant_families[significant_families.family.isin(paper_family_list)]"
   ]
  },
  {
   "cell_type": "code",
   "execution_count": null,
   "metadata": {},
   "outputs": [],
   "source": [
    "bdb_words_with_freqs[bdb_words_with_freqs['index'].isin(CA_paper)]"
   ]
  },
  {
   "cell_type": "code",
   "execution_count": null,
   "metadata": {},
   "outputs": [],
   "source": [
    "bdb_words_with_freqs[bdb_words_with_freqs['index'].isin(HDAC_paper)]"
   ]
  },
  {
   "cell_type": "code",
   "execution_count": null,
   "metadata": {},
   "outputs": [],
   "source": [
    "bdb_words_with_freqs[bdb_words_with_freqs['index'].isin(CK1_paper)]"
   ]
  },
  {
   "cell_type": "markdown",
   "metadata": {},
   "source": [
    "## Mean affinity scores per chemical word"
   ]
  },
  {
   "cell_type": "code",
   "execution_count": null,
   "metadata": {},
   "outputs": [],
   "source": [
    "affinity_per_words = bdb_words.groupby('words').agg(mean_affinity_score=('affinity_score', 'mean')).sort_values('mean_affinity_score', ascending=False)\n",
    "affinity_per_words"
   ]
  },
  {
   "cell_type": "code",
   "execution_count": null,
   "metadata": {},
   "outputs": [],
   "source": [
    "fig = px.bar(affinity_per_words.reset_index(), x='words', y='mean_affinity_score')\n",
    "fig.show()"
   ]
  },
  {
   "cell_type": "code",
   "execution_count": null,
   "metadata": {},
   "outputs": [],
   "source": [
    "bdb_words[bdb_words['words'] == 'c4ccc(Cl)cc4)']"
   ]
  },
  {
   "cell_type": "code",
   "execution_count": null,
   "metadata": {},
   "outputs": [],
   "source": [
    "bdb_words[bdb_words['words'] == 'c[nH]c12']"
   ]
  },
  {
   "cell_type": "markdown",
   "metadata": {},
   "source": [
    "## Protein Class - Significance Analyses"
   ]
  },
  {
   "cell_type": "code",
   "execution_count": null,
   "metadata": {},
   "outputs": [],
   "source": [
    "import pandas as pd\n",
    "import sys\n",
    "sys.path.append('../')\n",
    "\n",
    "from highlighter import identify_highlights\n",
    "from data import load_protein_class\n",
    "\n",
    "classes = ['epigenetic-regulators','hydrolases', 'ion-channels', 'membrane-receptors', 'other-enzymes', \n",
    "           'oxidoreductases', 'proteases', 'transcription-factors', 'transferases', 'transporters']\n",
    "family = classes[9]\n",
    "tf_idf_active, _ = identify_highlights(load_protein_class(family=family, binders='active'))\n",
    "tf_idf_active.reset_index(inplace=True)\n",
    "tf_idf_active.rename(columns={\"index\": \"target_id\"}, inplace=True)\n",
    "tf_idf_active = tf_idf_active.set_index(\"target_id\").T\n",
    "\n",
    "tf_idf_inactive, _ = identify_highlights(load_protein_class(family=family, binders='inactive'))\n",
    "tf_idf_inactive.reset_index(inplace=True)\n",
    "tf_idf_inactive.rename(columns={\"index\": \"target_id\"}, inplace=True)\n",
    "tf_idf_inactive = tf_idf_inactive.set_index(\"target_id\").T"
   ]
  },
  {
   "cell_type": "code",
   "execution_count": null,
   "metadata": {},
   "outputs": [],
   "source": [
    "from scipy.stats import ranksums\n",
    "family_significance = []\n",
    "for col in set(tf_idf_active.columns) & set(tf_idf_inactive.columns):  \n",
    "    family_df = pd.merge(tf_idf_active[col].reset_index(), tf_idf_inactive[col].reset_index(), on='index', how='outer')\n",
    "    family_df = family_df.fillna(0)\n",
    "    family_df.columns = ['word', 'active', 'inactive']\n",
    "    #ToDo: dropping words occurred none of them increases significant families by 15 (20-> 35)\n",
    "    family_df = family_df[(family_df['active'] != 0) | (family_df['inactive'] != 0)]\n",
    "    _, upnorm = ranksums(family_df['active'].tolist(), family_df['inactive'].tolist())\n",
    "    family_significance.append({'family': col, 'p-value': upnorm, 'significant': upnorm <= 0.05})\n",
    "test_results = pd.DataFrame(family_significance)\n",
    "test_results['significant'].value_counts()"
   ]
  },
  {
   "cell_type": "code",
   "execution_count": null,
   "metadata": {},
   "outputs": [],
   "source": []
  },
  {
   "cell_type": "code",
   "execution_count": null,
   "metadata": {},
   "outputs": [],
   "source": []
  },
  {
   "cell_type": "code",
   "execution_count": null,
   "metadata": {},
   "outputs": [],
   "source": []
  },
  {
   "cell_type": "code",
   "execution_count": null,
   "metadata": {},
   "outputs": [],
   "source": []
  },
  {
   "cell_type": "code",
   "execution_count": null,
   "metadata": {},
   "outputs": [],
   "source": []
  }
 ],
 "metadata": {
  "kernelspec": {
   "display_name": "Python 3",
   "language": "python",
   "name": "python3"
  },
  "language_info": {
   "codemirror_mode": {
    "name": "ipython",
    "version": 3
   },
   "file_extension": ".py",
   "mimetype": "text/x-python",
   "name": "python",
   "nbconvert_exporter": "python",
   "pygments_lexer": "ipython3",
   "version": "3.6.10"
  }
 },
 "nbformat": 4,
 "nbformat_minor": 4
}
