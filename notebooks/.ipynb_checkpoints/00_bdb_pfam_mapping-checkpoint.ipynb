{
 "cells": [
  {
   "cell_type": "code",
   "execution_count": 10,
   "metadata": {},
   "outputs": [],
   "source": [
    "import json\n",
    "import requests\n",
    "import time"
   ]
  },
  {
   "cell_type": "code",
   "execution_count": 45,
   "metadata": {},
   "outputs": [],
   "source": [
    "# import pandas as pd\n",
    "# df_pfam = pd.read_csv('../data/bdb/pfams.csv', index_col=False)"
   ]
  },
  {
   "cell_type": "code",
   "execution_count": 44,
   "metadata": {},
   "outputs": [],
   "source": [
    "proteins = list(json.loads(open('../data/bdb/proteins.json').read()).keys())\n",
    "df_pfam = pd.DataFrame(proteins, columns=['prot_id'])"
   ]
  },
  {
   "cell_type": "code",
   "execution_count": 40,
   "metadata": {},
   "outputs": [],
   "source": [
    "interpro_api = 'https://www.ebi.ac.uk/interpro/api/entry/interpro/protein/uniprot/'\n",
    "def retrieve_pfam(prot):\n",
    "    time.sleep(10)\n",
    "    try:\n",
    "        r = requests.get(interpro_api + prot)\n",
    "        pfam_list = [list(result['metadata']['member_databases']['pfam'].items())[0] for result in r.json()['results'] if 'pfam' in result['metadata']['member_databases']]\n",
    "        return ';'.join([i[0] for i in pfam_list]), ';'.join([i[1] for i in pfam_list])\n",
    "    except Exception as e: \n",
    "        print(prot, r.json(), e)\n",
    "        return []"
   ]
  },
  {
   "cell_type": "code",
   "execution_count": 41,
   "metadata": {},
   "outputs": [],
   "source": [
    "df_pfam['pfam_id'], df_pfam['pfam_name'] = zip(*df_pfam['prot_id'].apply(retrieve_pfam))\n",
    "df_pfam.to_csv('../data/bdb/pfams.csv', index=False)"
   ]
  }
 ],
 "metadata": {
  "kernelspec": {
   "display_name": "Python 3",
   "language": "python",
   "name": "python3"
  },
  "language_info": {
   "codemirror_mode": {
    "name": "ipython",
    "version": 3
   },
   "file_extension": ".py",
   "mimetype": "text/x-python",
   "name": "python",
   "nbconvert_exporter": "python",
   "pygments_lexer": "ipython3",
   "version": "3.6.10"
  }
 },
 "nbformat": 4,
 "nbformat_minor": 4
}
