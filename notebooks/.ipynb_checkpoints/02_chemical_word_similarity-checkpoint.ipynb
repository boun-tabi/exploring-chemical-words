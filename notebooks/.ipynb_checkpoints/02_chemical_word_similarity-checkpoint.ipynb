{
 "cells": [
  {
   "cell_type": "code",
   "execution_count": 3,
   "metadata": {},
   "outputs": [
    {
     "name": "stdout",
     "output_type": "stream",
     "text": [
      "Collecting distance\n",
      "  Downloading Distance-0.1.3.tar.gz (180 kB)\n",
      "Building wheels for collected packages: distance\n",
      "  Building wheel for distance (setup.py): started\n",
      "  Building wheel for distance (setup.py): finished with status 'done'\n",
      "  Created wheel for distance: filename=Distance-0.1.3-py3-none-any.whl size=16265 sha256=42bab99beb94f54c62a81c2339ecae9c551f0c6838381ca5209b90acec864954\n",
      "  Stored in directory: c:\\users\\gokce\\appdata\\local\\pip\\cache\\wheels\\73\\fe\\4f\\755e0e7c4458783fb3d772007ffd70f6e8c4a6ab7ff40c7767\n",
      "Successfully built distance\n",
      "Installing collected packages: distance\n",
      "Successfully installed distance-0.1.3\n"
     ]
    }
   ],
   "source": [
    "!pip install distance"
   ]
  },
  {
   "cell_type": "code",
   "execution_count": 4,
   "metadata": {},
   "outputs": [
    {
     "data": {
      "image/png": "[encoded data removed]",
      "text/plain": [
       "<Figure size 432x288 with 1 Axes>"
      ]
     },
     "metadata": {
      "needs_background": "light"
     },
     "output_type": "display_data"
    }
   ],
   "source": [
    "import distance\n",
    "import matplotlib.pyplot as plt\n",
    "\n",
    "# Define two sets of molecular fragments\n",
    "set1 = ['CO', 'OH', 'H2O', 'CO2']\n",
    "set2 = ['CO', 'NO', 'N2O', 'CO2']\n",
    "\n",
    "# Compute the minimum Levenshtein distance for each fragment\n",
    "min_distances = []\n",
    "for frag1 in set1:\n",
    "    distances = []\n",
    "    for frag2 in set2:\n",
    "        distances.append(distance.levenshtein(frag1, frag2))\n",
    "    min_distances.append(min(distances))\n",
    "\n",
    "# Plot the distribution of minimum distances\n",
    "plt.hist(min_distances, bins=range(max(min_distances)+2))\n",
    "plt.xlabel('Minimum Levenshtein Distance')\n",
    "plt.ylabel('Frequency')\n",
    "plt.show()"
   ]
  },
  {
   "cell_type": "code",
   "execution_count": 5,
   "metadata": {},
   "outputs": [
    {
     "data": {
      "image/png": "[encoded data removed]",
      "text/plain": [
       "<Figure size 432x288 with 1 Axes>"
      ]
     },
     "metadata": {
      "needs_background": "light"
     },
     "output_type": "display_data"
    }
   ],
   "source": [
    "import numpy as np\n",
    "import matplotlib.pyplot as plt\n",
    "\n",
    "# Define two sets of molecular fragments\n",
    "set1 = ['CO', 'OH', 'H2O', 'CO2']\n",
    "set2 = ['CO', 'NO', 'N2O', 'CO2']\n",
    "\n",
    "# Compute the Jaccard similarity between each pair of fragments\n",
    "jaccard_similarities = np.zeros((len(set1), len(set2)))\n",
    "for i, frag1 in enumerate(set1):\n",
    "    for j, frag2 in enumerate(set2):\n",
    "        intersection = set(frag1).intersection(set(frag2))\n",
    "        union = set(frag1).union(set(frag2))\n",
    "        jaccard_similarities[i][j] = len(intersection) / len(union)\n",
    "\n",
    "# Compute the minimum Jaccard similarity for each fragment\n",
    "min_similarities = []\n",
    "for i, frag1 in enumerate(set1):\n",
    "    similarities = []\n",
    "    for j, frag2 in enumerate(set2):\n",
    "        similarities.append(jaccard_similarities[i][j])\n",
    "    min_similarities.append(min(similarities))\n",
    "\n",
    "# Plot the distribution of minimum similarities\n",
    "plt.hist(min_similarities, bins=np.linspace(0, 1, num=11))\n",
    "plt.xlabel('Minimum Jaccard Similarity')\n",
    "plt.ylabel('Frequency')\n",
    "plt.show()"
   ]
  },
  {
   "cell_type": "code",
   "execution_count": 6,
   "metadata": {},
   "outputs": [
    {
     "name": "stdout",
     "output_type": "stream",
     "text": [
      "Requirement already satisfied: EFGs in c:\\users\\gokce\\anaconda3\\envs\\transformers\\lib\\site-packages (0.8.4)\n"
     ]
    }
   ],
   "source": [
    "!pip install EFGs"
   ]
  },
  {
   "cell_type": "code",
   "execution_count": 1,
   "metadata": {},
   "outputs": [],
   "source": [
    "import pandas as pd\n",
    "chembl = pd.read_csv('../data/chembl27.csv')"
   ]
  },
  {
   "cell_type": "code",
   "execution_count": 3,
   "metadata": {},
   "outputs": [
    {
     "data": {
      "text/html": [
       "<div>\n",
       "<style scoped>\n",
       "    .dataframe tbody tr th:only-of-type {\n",
       "        vertical-align: middle;\n",
       "    }\n",
       "\n",
       "    .dataframe tbody tr th {\n",
       "        vertical-align: top;\n",
       "    }\n",
       "\n",
       "    .dataframe thead th {\n",
       "        text-align: right;\n",
       "    }\n",
       "</style>\n",
       "<table border=\"1\" class=\"dataframe\">\n",
       "  <thead>\n",
       "    <tr style=\"text-align: right;\">\n",
       "      <th></th>\n",
       "      <th>Unnamed: 0</th>\n",
       "      <th>canonical_smiles</th>\n",
       "      <th>standard_inchi</th>\n",
       "      <th>standard_inchi_key</th>\n",
       "      <th>chembl_id</th>\n",
       "    </tr>\n",
       "  </thead>\n",
       "  <tbody>\n",
       "    <tr>\n",
       "      <th>0</th>\n",
       "      <td>0</td>\n",
       "      <td>Cc1cc(-n2ncc(=O)[nH]c2=O)ccc1C(=O)c1ccccc1Cl</td>\n",
       "      <td>InChI=1S/C17H12ClN3O3/c1-10-8-11(21-17(24)20-1...</td>\n",
       "      <td>OWRSAHYFSSNENM-UHFFFAOYSA-N</td>\n",
       "      <td>CHEMBL6329</td>\n",
       "    </tr>\n",
       "    <tr>\n",
       "      <th>1</th>\n",
       "      <td>1</td>\n",
       "      <td>Cc1cc(-n2ncc(=O)[nH]c2=O)ccc1C(=O)c1ccc(C#N)cc1</td>\n",
       "      <td>InChI=1S/C18H12N4O3/c1-11-8-14(22-18(25)21-16(...</td>\n",
       "      <td>ZJYUMURGSZQFMH-UHFFFAOYSA-N</td>\n",
       "      <td>CHEMBL6328</td>\n",
       "    </tr>\n",
       "    <tr>\n",
       "      <th>2</th>\n",
       "      <td>2</td>\n",
       "      <td>Cc1cc(-n2ncc(=O)[nH]c2=O)cc(C)c1C(O)c1ccc(Cl)cc1</td>\n",
       "      <td>InChI=1S/C18H16ClN3O3/c1-10-7-14(22-18(25)21-1...</td>\n",
       "      <td>YOMWDCALSDWFSV-UHFFFAOYSA-N</td>\n",
       "      <td>CHEMBL265667</td>\n",
       "    </tr>\n",
       "    <tr>\n",
       "      <th>3</th>\n",
       "      <td>3</td>\n",
       "      <td>Cc1ccc(C(=O)c2ccc(-n3ncc(=O)[nH]c3=O)cc2)cc1</td>\n",
       "      <td>InChI=1S/C17H13N3O3/c1-11-2-4-12(5-3-11)16(22)...</td>\n",
       "      <td>PSOPUAQFGCRDIP-UHFFFAOYSA-N</td>\n",
       "      <td>CHEMBL6362</td>\n",
       "    </tr>\n",
       "    <tr>\n",
       "      <th>4</th>\n",
       "      <td>4</td>\n",
       "      <td>Cc1cc(-n2ncc(=O)[nH]c2=O)ccc1C(=O)c1ccc(Cl)cc1</td>\n",
       "      <td>InChI=1S/C17H12ClN3O3/c1-10-8-13(21-17(24)20-1...</td>\n",
       "      <td>KEZNSCMBVRNOHO-UHFFFAOYSA-N</td>\n",
       "      <td>CHEMBL267864</td>\n",
       "    </tr>\n",
       "    <tr>\n",
       "      <th>...</th>\n",
       "      <td>...</td>\n",
       "      <td>...</td>\n",
       "      <td>...</td>\n",
       "      <td>...</td>\n",
       "      <td>...</td>\n",
       "    </tr>\n",
       "    <tr>\n",
       "      <th>1941406</th>\n",
       "      <td>1941406</td>\n",
       "      <td>CCC(C)C(N)C1=NC(C(=O)N[C@@H](CC(C)C)C(=O)N[C@H...</td>\n",
       "      <td>InChI=1S/C66H103N17O16S/c1-9-35(6)52(69)66-81-...</td>\n",
       "      <td>CLKOFPXJLQSYAH-BCQJLZSDSA-N</td>\n",
       "      <td>CHEMBL4303799</td>\n",
       "    </tr>\n",
       "    <tr>\n",
       "      <th>1941407</th>\n",
       "      <td>1941407</td>\n",
       "      <td>COc1cccc2c1C(=O)c1c(O)c3c(c(O)c1C2=O)C[C@@](O)...</td>\n",
       "      <td>InChI=1S/C27H29NO11/c1-10-22(31)13(28)6-17(38-...</td>\n",
       "      <td>AOJJSUZBOXZQNB-WPFMFTOPSA-N</td>\n",
       "      <td>CHEMBL4303800</td>\n",
       "    </tr>\n",
       "    <tr>\n",
       "      <th>1941408</th>\n",
       "      <td>1941408</td>\n",
       "      <td>NCC(=O)CCC(=O)OCc1ccccc1</td>\n",
       "      <td>InChI=1S/C12H15NO3/c13-8-11(14)6-7-12(15)16-9-...</td>\n",
       "      <td>AFFZCQDLQIEQGB-UHFFFAOYSA-N</td>\n",
       "      <td>CHEMBL4303801</td>\n",
       "    </tr>\n",
       "    <tr>\n",
       "      <th>1941409</th>\n",
       "      <td>1941409</td>\n",
       "      <td>CC/C=C(/C(=O)N[C@@H]1C(=O)N2C(C(=O)OCOC(=O)C(C...</td>\n",
       "      <td>InChI=1S/C23H29N5O8S2/c1-5-6-12(13-9-38-21(24)...</td>\n",
       "      <td>WVPAABNYMHNFJG-VNSAHOQDSA-N</td>\n",
       "      <td>CHEMBL4303802</td>\n",
       "    </tr>\n",
       "    <tr>\n",
       "      <th>1941410</th>\n",
       "      <td>1941410</td>\n",
       "      <td>CC1(C)S[C@@H]2[C@H](NC(=O)COc3ccccc3)C(=O)N2C1...</td>\n",
       "      <td>InChI=1S/C16H18N2O5S/c1-16(2)12(15(21)22)18-13...</td>\n",
       "      <td>BPLBGHOLXOTWMN-YXHCSQSYSA-N</td>\n",
       "      <td>CHEMBL4303803</td>\n",
       "    </tr>\n",
       "  </tbody>\n",
       "</table>\n",
       "<p>1941411 rows × 5 columns</p>\n",
       "</div>"
      ],
      "text/plain": [
       "         Unnamed: 0                                   canonical_smiles  \\\n",
       "0                 0       Cc1cc(-n2ncc(=O)[nH]c2=O)ccc1C(=O)c1ccccc1Cl   \n",
       "1                 1    Cc1cc(-n2ncc(=O)[nH]c2=O)ccc1C(=O)c1ccc(C#N)cc1   \n",
       "2                 2   Cc1cc(-n2ncc(=O)[nH]c2=O)cc(C)c1C(O)c1ccc(Cl)cc1   \n",
       "3                 3       Cc1ccc(C(=O)c2ccc(-n3ncc(=O)[nH]c3=O)cc2)cc1   \n",
       "4                 4     Cc1cc(-n2ncc(=O)[nH]c2=O)ccc1C(=O)c1ccc(Cl)cc1   \n",
       "...             ...                                                ...   \n",
       "1941406     1941406  CCC(C)C(N)C1=NC(C(=O)N[C@@H](CC(C)C)C(=O)N[C@H...   \n",
       "1941407     1941407  COc1cccc2c1C(=O)c1c(O)c3c(c(O)c1C2=O)C[C@@](O)...   \n",
       "1941408     1941408                           NCC(=O)CCC(=O)OCc1ccccc1   \n",
       "1941409     1941409  CC/C=C(/C(=O)N[C@@H]1C(=O)N2C(C(=O)OCOC(=O)C(C...   \n",
       "1941410     1941410  CC1(C)S[C@@H]2[C@H](NC(=O)COc3ccccc3)C(=O)N2C1...   \n",
       "\n",
       "                                            standard_inchi  \\\n",
       "0        InChI=1S/C17H12ClN3O3/c1-10-8-11(21-17(24)20-1...   \n",
       "1        InChI=1S/C18H12N4O3/c1-11-8-14(22-18(25)21-16(...   \n",
       "2        InChI=1S/C18H16ClN3O3/c1-10-7-14(22-18(25)21-1...   \n",
       "3        InChI=1S/C17H13N3O3/c1-11-2-4-12(5-3-11)16(22)...   \n",
       "4        InChI=1S/C17H12ClN3O3/c1-10-8-13(21-17(24)20-1...   \n",
       "...                                                    ...   \n",
       "1941406  InChI=1S/C66H103N17O16S/c1-9-35(6)52(69)66-81-...   \n",
       "1941407  InChI=1S/C27H29NO11/c1-10-22(31)13(28)6-17(38-...   \n",
       "1941408  InChI=1S/C12H15NO3/c13-8-11(14)6-7-12(15)16-9-...   \n",
       "1941409  InChI=1S/C23H29N5O8S2/c1-5-6-12(13-9-38-21(24)...   \n",
       "1941410  InChI=1S/C16H18N2O5S/c1-16(2)12(15(21)22)18-13...   \n",
       "\n",
       "                  standard_inchi_key      chembl_id  \n",
       "0        OWRSAHYFSSNENM-UHFFFAOYSA-N     CHEMBL6329  \n",
       "1        ZJYUMURGSZQFMH-UHFFFAOYSA-N     CHEMBL6328  \n",
       "2        YOMWDCALSDWFSV-UHFFFAOYSA-N   CHEMBL265667  \n",
       "3        PSOPUAQFGCRDIP-UHFFFAOYSA-N     CHEMBL6362  \n",
       "4        KEZNSCMBVRNOHO-UHFFFAOYSA-N   CHEMBL267864  \n",
       "...                              ...            ...  \n",
       "1941406  CLKOFPXJLQSYAH-BCQJLZSDSA-N  CHEMBL4303799  \n",
       "1941407  AOJJSUZBOXZQNB-WPFMFTOPSA-N  CHEMBL4303800  \n",
       "1941408  AFFZCQDLQIEQGB-UHFFFAOYSA-N  CHEMBL4303801  \n",
       "1941409  WVPAABNYMHNFJG-VNSAHOQDSA-N  CHEMBL4303802  \n",
       "1941410  BPLBGHOLXOTWMN-YXHCSQSYSA-N  CHEMBL4303803  \n",
       "\n",
       "[1941411 rows x 5 columns]"
      ]
     },
     "execution_count": 3,
     "metadata": {},
     "output_type": "execute_result"
    }
   ],
   "source": [
    "chembl"
   ]
  },
  {
   "cell_type": "code",
   "execution_count": 1,
   "metadata": {},
   "outputs": [
    {
     "name": "stdout",
     "output_type": "stream",
     "text": [
      "Requirement already satisfied: pandarallel in c:\\users\\gokce\\anaconda3\\envs\\transformers\\lib\\site-packages (1.6.4)\n",
      "Requirement already satisfied: dill>=0.3.1 in c:\\users\\gokce\\anaconda3\\envs\\transformers\\lib\\site-packages (from pandarallel) (0.3.3)\n",
      "Requirement already satisfied: pandas>=1 in c:\\users\\gokce\\anaconda3\\envs\\transformers\\lib\\site-packages (from pandarallel) (1.1.3)\n",
      "Requirement already satisfied: psutil in c:\\users\\gokce\\anaconda3\\envs\\transformers\\lib\\site-packages (from pandarallel) (5.7.0)\n",
      "Requirement already satisfied: python-dateutil>=2.7.3 in c:\\users\\gokce\\anaconda3\\envs\\transformers\\lib\\site-packages (from pandas>=1->pandarallel) (2.8.1)\n",
      "Requirement already satisfied: pytz>=2017.2 in c:\\users\\gokce\\anaconda3\\envs\\transformers\\lib\\site-packages (from pandas>=1->pandarallel) (2020.1)\n",
      "Requirement already satisfied: numpy>=1.15.4 in c:\\users\\gokce\\anaconda3\\envs\\transformers\\lib\\site-packages (from pandas>=1->pandarallel) (1.17.0)\n",
      "Requirement already satisfied: six>=1.5 in c:\\users\\gokce\\anaconda3\\envs\\transformers\\lib\\site-packages (from python-dateutil>=2.7.3->pandas>=1->pandarallel) (1.15.0)\n"
     ]
    }
   ],
   "source": [
    "!pip install pandarallel"
   ]
  },
  {
   "cell_type": "code",
   "execution_count": 2,
   "metadata": {},
   "outputs": [
    {
     "ename": "ImportError",
     "evalue": "cannot import name 'time_ns'",
     "output_type": "error",
     "traceback": [
      "\u001b[1;31m---------------------------------------------------------------------------\u001b[0m",
      "\u001b[1;31mImportError\u001b[0m                               Traceback (most recent call last)",
      "\u001b[1;32m<ipython-input-2-6f99c0f4cb2f>\u001b[0m in \u001b[0;36m<module>\u001b[1;34m\u001b[0m\n\u001b[0;32m      2\u001b[0m \u001b[0mtqdm\u001b[0m\u001b[1;33m.\u001b[0m\u001b[0mpandas\u001b[0m\u001b[1;33m(\u001b[0m\u001b[1;33m)\u001b[0m\u001b[1;33m\u001b[0m\u001b[1;33m\u001b[0m\u001b[0m\n\u001b[0;32m      3\u001b[0m \u001b[1;33m\u001b[0m\u001b[0m\n\u001b[1;32m----> 4\u001b[1;33m \u001b[1;32mfrom\u001b[0m \u001b[0mpandarallel\u001b[0m \u001b[1;32mimport\u001b[0m \u001b[0mpandarallel\u001b[0m\u001b[1;33m\u001b[0m\u001b[1;33m\u001b[0m\u001b[0m\n\u001b[0m\u001b[0;32m      5\u001b[0m \u001b[0mpandarallel\u001b[0m\u001b[1;33m.\u001b[0m\u001b[0minitialize\u001b[0m\u001b[1;33m(\u001b[0m\u001b[0mprogress_bar\u001b[0m\u001b[1;33m=\u001b[0m\u001b[1;32mTrue\u001b[0m\u001b[1;33m)\u001b[0m\u001b[1;33m\u001b[0m\u001b[1;33m\u001b[0m\u001b[0m\n",
      "\u001b[1;32m~\\Anaconda3\\envs\\transformers\\lib\\site-packages\\pandarallel\\__init__.py\u001b[0m in \u001b[0;36m<module>\u001b[1;34m\u001b[0m\n\u001b[1;32m----> 1\u001b[1;33m \u001b[1;32mfrom\u001b[0m \u001b[1;33m.\u001b[0m\u001b[0mcore\u001b[0m \u001b[1;32mimport\u001b[0m \u001b[0mpandarallel\u001b[0m\u001b[1;33m\u001b[0m\u001b[1;33m\u001b[0m\u001b[0m\n\u001b[0m\u001b[0;32m      2\u001b[0m \u001b[1;33m\u001b[0m\u001b[0m\n\u001b[0;32m      3\u001b[0m \u001b[0m__version__\u001b[0m \u001b[1;33m=\u001b[0m \u001b[1;34m\"1.6.4\"\u001b[0m\u001b[1;33m\u001b[0m\u001b[1;33m\u001b[0m\u001b[0m\n",
      "\u001b[1;32m~\\Anaconda3\\envs\\transformers\\lib\\site-packages\\pandarallel\\core.py\u001b[0m in \u001b[0;36m<module>\u001b[1;34m\u001b[0m\n\u001b[0;32m     24\u001b[0m     \u001b[0mSeriesRolling\u001b[0m\u001b[1;33m,\u001b[0m\u001b[1;33m\u001b[0m\u001b[1;33m\u001b[0m\u001b[0m\n\u001b[0;32m     25\u001b[0m )\n\u001b[1;32m---> 26\u001b[1;33m \u001b[1;32mfrom\u001b[0m \u001b[1;33m.\u001b[0m\u001b[0mprogress_bars\u001b[0m \u001b[1;32mimport\u001b[0m \u001b[0mProgressBarsType\u001b[0m\u001b[1;33m,\u001b[0m \u001b[0mget_progress_bars\u001b[0m\u001b[1;33m,\u001b[0m \u001b[0mprogress_wrapper\u001b[0m\u001b[1;33m\u001b[0m\u001b[1;33m\u001b[0m\u001b[0m\n\u001b[0m\u001b[0;32m     27\u001b[0m \u001b[1;32mfrom\u001b[0m \u001b[1;33m.\u001b[0m\u001b[0mutils\u001b[0m \u001b[1;32mimport\u001b[0m \u001b[0mWorkerStatus\u001b[0m\u001b[1;33m\u001b[0m\u001b[1;33m\u001b[0m\u001b[0m\n\u001b[0;32m     28\u001b[0m \u001b[1;33m\u001b[0m\u001b[0m\n",
      "\u001b[1;32m~\\Anaconda3\\envs\\transformers\\lib\\site-packages\\pandarallel\\progress_bars.py\u001b[0m in \u001b[0;36m<module>\u001b[1;34m\u001b[0m\n\u001b[0;32m      6\u001b[0m \u001b[1;32mfrom\u001b[0m \u001b[0menum\u001b[0m \u001b[1;32mimport\u001b[0m \u001b[0mEnum\u001b[0m\u001b[1;33m\u001b[0m\u001b[1;33m\u001b[0m\u001b[0m\n\u001b[0;32m      7\u001b[0m \u001b[1;32mfrom\u001b[0m \u001b[0mitertools\u001b[0m \u001b[1;32mimport\u001b[0m \u001b[0mcount\u001b[0m\u001b[1;33m\u001b[0m\u001b[1;33m\u001b[0m\u001b[0m\n\u001b[1;32m----> 8\u001b[1;33m \u001b[1;32mfrom\u001b[0m \u001b[0mtime\u001b[0m \u001b[1;32mimport\u001b[0m \u001b[0mtime_ns\u001b[0m\u001b[1;33m\u001b[0m\u001b[1;33m\u001b[0m\u001b[0m\n\u001b[0m\u001b[0;32m      9\u001b[0m \u001b[1;32mfrom\u001b[0m \u001b[0mtyping\u001b[0m \u001b[1;32mimport\u001b[0m \u001b[0mCallable\u001b[0m\u001b[1;33m,\u001b[0m \u001b[0mList\u001b[0m\u001b[1;33m,\u001b[0m \u001b[0mUnion\u001b[0m\u001b[1;33m\u001b[0m\u001b[1;33m\u001b[0m\u001b[0m\n\u001b[0;32m     10\u001b[0m \u001b[1;33m\u001b[0m\u001b[0m\n",
      "\u001b[1;31mImportError\u001b[0m: cannot import name 'time_ns'"
     ]
    }
   ],
   "source": [
    "from tqdm import tqdm\n",
    "tqdm.pandas()\n",
    "\n",
    "from pandarallel import pandarallel\n",
    "pandarallel.initialize(progress_bar=True)"
   ]
  },
  {
   "cell_type": "code",
   "execution_count": null,
   "metadata": {},
   "outputs": [],
   "source": [
    "from rdkit import Chem\n",
    "from EFGs import mol2frag\n",
    "from tqdm import tqdm, tqdm_notebook\n",
    "tqdm.pandas()\n",
    "\n",
    "\n",
    "mol2frag(Chem.MolFromSmiles(s))\n",
    "\n",
    "with mp.Pool(mp.cpu_count()) as pool:\n",
    "    chembl['efgs'] = pool.map(get_frag,  chembl['canonical_smiles'])"
   ]
  },
  {
   "cell_type": "code",
   "execution_count": null,
   "metadata": {},
   "outputs": [],
   "source": [
    "chembl.to_csv('../data/chembl27_efg.csv', index=False)"
   ]
  },
  {
   "cell_type": "code",
   "execution_count": 17,
   "metadata": {},
   "outputs": [],
   "source": [
    "efg_vocab = list(set(sum([a + b for a, b in df_bdb['efgs'].tolist()], [])))"
   ]
  },
  {
   "cell_type": "code",
   "execution_count": 12,
   "metadata": {},
   "outputs": [],
   "source": [
    "import json\n",
    "vocab = list(json.loads(open('../data/vocab.json').read())['model']['vocab'].keys())"
   ]
  },
  {
   "cell_type": "code",
   "execution_count": 22,
   "metadata": {},
   "outputs": [],
   "source": [
    "import seaborn as sns\n",
    "sns.set()"
   ]
  },
  {
   "cell_type": "markdown",
   "metadata": {},
   "source": [
    "## Jaccard Similarity"
   ]
  },
  {
   "cell_type": "code",
   "execution_count": 25,
   "metadata": {},
   "outputs": [],
   "source": [
    "jaccard_similarities = np.zeros((len(vocab), len(efg_vocab)))\n",
    "for i, frag1 in enumerate(vocab):\n",
    "    for j, frag2 in enumerate(efg_vocab):\n",
    "        intersection = set(frag1).intersection(set(frag2))\n",
    "        union = set(frag1).union(set(frag2))\n",
    "        jaccard_similarities[i][j] = len(intersection) / len(union)\n",
    "\n",
    "# Compute the minimum Jaccard similarity for each fragment\n",
    "min_similarities = []\n",
    "for i, frag1 in enumerate(vocab):\n",
    "    similarities = []\n",
    "    for j, frag2 in enumerate(efg_vocab):\n",
    "        similarities.append(jaccard_similarities[i][j])\n",
    "    min_similarities.append(max(similarities))\n"
   ]
  },
  {
   "cell_type": "code",
   "execution_count": 32,
   "metadata": {},
   "outputs": [
    {
     "data": {
      "text/html": [
       "<div>\n",
       "<style scoped>\n",
       "    .dataframe tbody tr th:only-of-type {\n",
       "        vertical-align: middle;\n",
       "    }\n",
       "\n",
       "    .dataframe tbody tr th {\n",
       "        vertical-align: top;\n",
       "    }\n",
       "\n",
       "    .dataframe thead th {\n",
       "        text-align: right;\n",
       "    }\n",
       "</style>\n",
       "<table border=\"1\" class=\"dataframe\">\n",
       "  <thead>\n",
       "    <tr style=\"text-align: right;\">\n",
       "      <th></th>\n",
       "      <th>0</th>\n",
       "    </tr>\n",
       "  </thead>\n",
       "  <tbody>\n",
       "    <tr>\n",
       "      <th>count</th>\n",
       "      <td>8000.000000</td>\n",
       "    </tr>\n",
       "    <tr>\n",
       "      <th>mean</th>\n",
       "      <td>0.644018</td>\n",
       "    </tr>\n",
       "    <tr>\n",
       "      <th>std</th>\n",
       "      <td>0.179732</td>\n",
       "    </tr>\n",
       "    <tr>\n",
       "      <th>min</th>\n",
       "      <td>0.000000</td>\n",
       "    </tr>\n",
       "    <tr>\n",
       "      <th>25%</th>\n",
       "      <td>0.500000</td>\n",
       "    </tr>\n",
       "    <tr>\n",
       "      <th>50%</th>\n",
       "      <td>0.625000</td>\n",
       "    </tr>\n",
       "    <tr>\n",
       "      <th>75%</th>\n",
       "      <td>0.750000</td>\n",
       "    </tr>\n",
       "    <tr>\n",
       "      <th>max</th>\n",
       "      <td>1.000000</td>\n",
       "    </tr>\n",
       "  </tbody>\n",
       "</table>\n",
       "</div>"
      ],
      "text/plain": [
       "                 0\n",
       "count  8000.000000\n",
       "mean      0.644018\n",
       "std       0.179732\n",
       "min       0.000000\n",
       "25%       0.500000\n",
       "50%       0.625000\n",
       "75%       0.750000\n",
       "max       1.000000"
      ]
     },
     "execution_count": 32,
     "metadata": {},
     "output_type": "execute_result"
    }
   ],
   "source": [
    "df_describe = pd.DataFrame(min_similarities)\n",
    "df_describe.describe()"
   ]
  },
  {
   "cell_type": "code",
   "execution_count": 29,
   "metadata": {},
   "outputs": [
    {
     "data": {
      "image/png": "[encoded data removed]",
      "text/plain": [
       "<Figure size 432x288 with 1 Axes>"
      ]
     },
     "metadata": {},
     "output_type": "display_data"
    }
   ],
   "source": [
    "# Plot the distribution of minimum similarities\n",
    "#plt.hist(min_similarities)#, bins=np.linspace(0, 1, num=11))\n",
    "sns.histplot(min_similarities, kde=True)\n",
    "plt.xlabel('Maximum Jaccard Similarity')\n",
    "plt.ylabel('Frequency')\n",
    "plt.show()"
   ]
  },
  {
   "cell_type": "code",
   "execution_count": 40,
   "metadata": {},
   "outputs": [],
   "source": [
    "smiles_list = df_bdb['smiles'].tolist()"
   ]
  },
  {
   "cell_type": "code",
   "execution_count": 44,
   "metadata": {},
   "outputs": [],
   "source": [
    "def generate_ngrams(n):\n",
    "    ngrams = []\n",
    "    for smiles in smiles_list: \n",
    "        for j in range(max(1, len(smiles)-n+1)):\n",
    "            ngrams.append(' '.join(smiles[j:j+n]))\n",
    "    return ngrams \n",
    "ngrams = {}\n",
    "for i in range(1, 30): \n",
    "    ngrams[i] = generate_ngrams(i)"
   ]
  },
  {
   "cell_type": "code",
   "execution_count": 42,
   "metadata": {},
   "outputs": [],
   "source": [
    "vocab_len = {}\n",
    "for w in vocab: \n",
    "    x = len(w)\n",
    "    if x in vocab_len: \n",
    "        vocab_len[x] += 1\n",
    "    else:\n",
    "        vocab_len[x] = 1"
   ]
  },
  {
   "cell_type": "code",
   "execution_count": 47,
   "metadata": {},
   "outputs": [],
   "source": [
    "import random\n",
    "random_vocab = []\n",
    "for length, size in vocab_len.items():\n",
    "    if length in ngrams:\n",
    "        random_vocab.extend(random.sample(ngrams[length], size))"
   ]
  },
  {
   "cell_type": "code",
   "execution_count": 48,
   "metadata": {},
   "outputs": [],
   "source": [
    "jaccard_similarities_random = np.zeros((len(random_vocab), len(efg_vocab)))\n",
    "for i, frag1 in enumerate(random_vocab):\n",
    "    for j, frag2 in enumerate(efg_vocab):\n",
    "        intersection = set(frag1).intersection(set(frag2))\n",
    "        union = set(frag1).union(set(frag2))\n",
    "        jaccard_similarities_random[i][j] = len(intersection) / len(union)\n",
    "\n",
    "# Compute the minimum Jaccard similarity for each fragment\n",
    "min_similarities_random = []\n",
    "for i, frag1 in enumerate(random_vocab):\n",
    "    similarities = []\n",
    "    for j, frag2 in enumerate(efg_vocab):\n",
    "        similarities.append(jaccard_similarities_random[i][j])\n",
    "    min_similarities_random.append(max(similarities))"
   ]
  },
  {
   "cell_type": "code",
   "execution_count": 52,
   "metadata": {},
   "outputs": [
    {
     "data": {
      "text/html": [
       "<div>\n",
       "<style scoped>\n",
       "    .dataframe tbody tr th:only-of-type {\n",
       "        vertical-align: middle;\n",
       "    }\n",
       "\n",
       "    .dataframe tbody tr th {\n",
       "        vertical-align: top;\n",
       "    }\n",
       "\n",
       "    .dataframe thead th {\n",
       "        text-align: right;\n",
       "    }\n",
       "</style>\n",
       "<table border=\"1\" class=\"dataframe\">\n",
       "  <thead>\n",
       "    <tr style=\"text-align: right;\">\n",
       "      <th></th>\n",
       "      <th>0</th>\n",
       "    </tr>\n",
       "  </thead>\n",
       "  <tbody>\n",
       "    <tr>\n",
       "      <th>count</th>\n",
       "      <td>7872.000000</td>\n",
       "    </tr>\n",
       "    <tr>\n",
       "      <th>mean</th>\n",
       "      <td>0.522219</td>\n",
       "    </tr>\n",
       "    <tr>\n",
       "      <th>std</th>\n",
       "      <td>0.133617</td>\n",
       "    </tr>\n",
       "    <tr>\n",
       "      <th>min</th>\n",
       "      <td>0.000000</td>\n",
       "    </tr>\n",
       "    <tr>\n",
       "      <th>25%</th>\n",
       "      <td>0.428571</td>\n",
       "    </tr>\n",
       "    <tr>\n",
       "      <th>50%</th>\n",
       "      <td>0.500000</td>\n",
       "    </tr>\n",
       "    <tr>\n",
       "      <th>75%</th>\n",
       "      <td>0.615385</td>\n",
       "    </tr>\n",
       "    <tr>\n",
       "      <th>max</th>\n",
       "      <td>1.000000</td>\n",
       "    </tr>\n",
       "  </tbody>\n",
       "</table>\n",
       "</div>"
      ],
      "text/plain": [
       "                 0\n",
       "count  7872.000000\n",
       "mean      0.522219\n",
       "std       0.133617\n",
       "min       0.000000\n",
       "25%       0.428571\n",
       "50%       0.500000\n",
       "75%       0.615385\n",
       "max       1.000000"
      ]
     },
     "execution_count": 52,
     "metadata": {},
     "output_type": "execute_result"
    }
   ],
   "source": [
    "pd.DataFrame(min_similarities_random).describe()"
   ]
  },
  {
   "cell_type": "code",
   "execution_count": 77,
   "metadata": {},
   "outputs": [
    {
     "data": {
      "image/png": "[encoded data removed]",
      "text/plain": [
       "<Figure size 441.35x360 with 1 Axes>"
      ]
     },
     "metadata": {},
     "output_type": "display_data"
    }
   ],
   "source": [
    "# Plot the distribution of minimum similarities\n",
    "#plt.hist(min_similarities)#, bins=np.linspace(0, 1, num=11))\n",
    "df_to_plot = pd.concat([pd.DataFrame(min_similarities_random, columns=['similarity']).assign(vocab='Random'), \n",
    "           pd.DataFrame(min_similarities, columns=['similarity']).assign(vocab='BPE')]).reset_index()\n",
    "sns.displot(data=df_to_plot, x='similarity', hue='vocab', kde=True, fill=True)\n",
    "plt.xlabel('Maximum Jaccard Similarity')\n",
    "plt.ylabel('Frequency')\n",
    "plt.show()"
   ]
  },
  {
   "cell_type": "code",
   "execution_count": 49,
   "metadata": {},
   "outputs": [],
   "source": [
    "# min_distances = []\n",
    "# for frag1 in vocab:\n",
    "#     distances = []\n",
    "#     for frag2 in efg_vocab:\n",
    "#         distances.append(distance.levenshtein(frag1, frag2))\n",
    "#     min_distances.append(min(distances))\n",
    "\n",
    "# # Plot the distribution of minimum distances\n",
    "# #plt.hist(min_distances)\n",
    "# sns.histplot(min_distances, kde=True)\n",
    "# plt.xlabel('Minimum Levenshtein Distance')\n",
    "# plt.ylabel('Frequency')\n",
    "# plt.show()"
   ]
  },
  {
   "cell_type": "code",
   "execution_count": null,
   "metadata": {},
   "outputs": [],
   "source": []
  }
 ],
 "metadata": {
  "kernelspec": {
   "display_name": "Python 3",
   "language": "python",
   "name": "python3"
  },
  "language_info": {
   "codemirror_mode": {
    "name": "ipython",
    "version": 3
   },
   "file_extension": ".py",
   "mimetype": "text/x-python",
   "name": "python",
   "nbconvert_exporter": "python",
   "pygments_lexer": "ipython3",
   "version": "3.6.10"
  }
 },
 "nbformat": 4,
 "nbformat_minor": 4
}
