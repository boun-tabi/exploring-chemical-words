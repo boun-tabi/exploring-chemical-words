{
 "cells": [
  {
   "cell_type": "code",
   "execution_count": 2,
   "metadata": {},
   "outputs": [
    {
     "name": "stdout",
     "output_type": "stream",
     "text": [
      "Requirement already satisfied: distance in c:\\users\\gokce\\anaconda3\\envs\\transformers\\lib\\site-packages (0.1.3)\n"
     ]
    }
   ],
   "source": [
    "!pip install distance"
   ]
  },
  {
   "cell_type": "code",
   "execution_count": 3,
   "metadata": {},
   "outputs": [
    {
     "data": {
      "image/png": "[encoded data removed]",
      "text/plain": [
       "<Figure size 432x288 with 1 Axes>"
      ]
     },
     "metadata": {
      "needs_background": "light"
     },
     "output_type": "display_data"
    }
   ],
   "source": [
    "import distance\n",
    "import matplotlib.pyplot as plt\n",
    "\n",
    "# Define two sets of molecular fragments\n",
    "set1 = ['CO', 'OH', 'H2O', 'CO2']\n",
    "set2 = ['CO', 'NO', 'N2O', 'CO2']\n",
    "\n",
    "# Compute the minimum Levenshtein distance for each fragment\n",
    "min_distances = []\n",
    "for frag1 in set1:\n",
    "    distances = []\n",
    "    for frag2 in set2:\n",
    "        distances.append(distance.levenshtein(frag1, frag2))\n",
    "    min_distances.append(min(distances))\n",
    "\n",
    "# Plot the distribution of minimum distances\n",
    "plt.hist(min_distances, bins=range(max(min_distances)+2))\n",
    "plt.xlabel('Minimum Levenshtein Distance')\n",
    "plt.ylabel('Frequency')\n",
    "plt.show()"
   ]
  },
  {
   "cell_type": "code",
   "execution_count": 4,
   "metadata": {},
   "outputs": [
    {
     "data": {
      "image/png": "[encoded data removed]",
      "text/plain": [
       "<Figure size 432x288 with 1 Axes>"
      ]
     },
     "metadata": {
      "needs_background": "light"
     },
     "output_type": "display_data"
    }
   ],
   "source": [
    "import numpy as np\n",
    "import matplotlib.pyplot as plt\n",
    "\n",
    "# Define two sets of molecular fragments\n",
    "set1 = ['CO', 'OH', 'H2O', 'CO2']\n",
    "set2 = ['CO', 'NO', 'N2O', 'CO2']\n",
    "\n",
    "# Compute the Jaccard similarity between each pair of fragments\n",
    "jaccard_similarities = np.zeros((len(set1), len(set2)))\n",
    "for i, frag1 in enumerate(set1):\n",
    "    for j, frag2 in enumerate(set2):\n",
    "        intersection = set(frag1).intersection(set(frag2))\n",
    "        union = set(frag1).union(set(frag2))\n",
    "        jaccard_similarities[i][j] = len(intersection) / len(union)\n",
    "\n",
    "# Compute the minimum Jaccard similarity for each fragment\n",
    "min_similarities = []\n",
    "for i, frag1 in enumerate(set1):\n",
    "    similarities = []\n",
    "    for j, frag2 in enumerate(set2):\n",
    "        similarities.append(jaccard_similarities[i][j])\n",
    "    min_similarities.append(min(similarities))\n",
    "\n",
    "# Plot the distribution of minimum similarities\n",
    "plt.hist(min_similarities, bins=np.linspace(0, 1, num=11))\n",
    "plt.xlabel('Minimum Jaccard Similarity')\n",
    "plt.ylabel('Frequency')\n",
    "plt.show()"
   ]
  },
  {
   "cell_type": "code",
   "execution_count": 5,
   "metadata": {},
   "outputs": [
    {
     "name": "stdout",
     "output_type": "stream",
     "text": [
      "Requirement already satisfied: EFGs in c:\\users\\gokce\\anaconda3\\envs\\transformers\\lib\\site-packages (0.8.4)\n"
     ]
    }
   ],
   "source": [
    "!pip install EFGs"
   ]
  },
  {
   "cell_type": "code",
   "execution_count": 6,
   "metadata": {},
   "outputs": [],
   "source": [
    "import pandas as pd\n",
    "chembl = pd.read_csv('../data/chembl27_efg.csv')"
   ]
  },
  {
   "cell_type": "code",
   "execution_count": 7,
   "metadata": {},
   "outputs": [],
   "source": [
    "from ast import literal_eval\n",
    "chembl['efgs'] = chembl.efgs.apply(lambda x: literal_eval(str(x)))"
   ]
  },
  {
   "cell_type": "code",
   "execution_count": 8,
   "metadata": {},
   "outputs": [],
   "source": [
    " chembl['functional_groups'] = chembl['efgs'].apply(lambda p: p[0])"
   ]
  },
  {
   "cell_type": "code",
   "execution_count": 9,
   "metadata": {},
   "outputs": [],
   "source": [
    "efg_vocab = chembl.explode('functional_groups').drop_duplicates('functional_groups')['functional_groups']"
   ]
  },
  {
   "cell_type": "code",
   "execution_count": 10,
   "metadata": {},
   "outputs": [
    {
     "data": {
      "text/plain": [
       "0                                            C=O\n",
       "0                                             Cl\n",
       "0                           O=c1cn[nH]c(=O)[nH]1\n",
       "0                                       c1ccccc1\n",
       "1                                            C#N\n",
       "                           ...                  \n",
       "1941298        C=C/C=C/C(=O)NC1=CC(=O)C(O)=CC1=O\n",
       "1941304                           O=CNNC=CC(=O)O\n",
       "1941337                       N/C(S)=N/NC(=O)C=O\n",
       "1941363                     O=CN/C=C/SS/C=C\\NC=O\n",
       "1941375    NC(=O)N/N=C1\\C=CC(NCS(=O)(=O)O)=CC1=O\n",
       "Name: functional_groups, Length: 19629, dtype: object"
      ]
     },
     "execution_count": 10,
     "metadata": {},
     "output_type": "execute_result"
    }
   ],
   "source": [
    "efg_vocab "
   ]
  },
  {
   "cell_type": "code",
   "execution_count": 11,
   "metadata": {},
   "outputs": [],
   "source": [
    "efg_vocab = efg_vocab.dropna().tolist()"
   ]
  },
  {
   "cell_type": "code",
   "execution_count": 12,
   "metadata": {},
   "outputs": [],
   "source": [
    "from tqdm import tqdm\n",
    "tqdm.pandas()\n"
   ]
  },
  {
   "cell_type": "code",
   "execution_count": 13,
   "metadata": {},
   "outputs": [],
   "source": [
    "import json\n",
    "vocab = list(json.loads(open('../data/vocab.json').read())['model']['vocab'].keys())"
   ]
  },
  {
   "cell_type": "code",
   "execution_count": 14,
   "metadata": {},
   "outputs": [],
   "source": [
    "import seaborn as sns\n",
    "sns.set()"
   ]
  },
  {
   "cell_type": "markdown",
   "metadata": {},
   "source": [
    "## Jaccard Similarity"
   ]
  },
  {
   "cell_type": "code",
   "execution_count": 15,
   "metadata": {},
   "outputs": [],
   "source": [
    "vocab = vocab[54:]"
   ]
  },
  {
   "cell_type": "code",
   "execution_count": 16,
   "metadata": {},
   "outputs": [
    {
     "name": "stderr",
     "output_type": "stream",
     "text": [
      "7946it [15:10,  8.73it/s]\n"
     ]
    }
   ],
   "source": [
    "jaccard_similarities = np.zeros((len(vocab), len(efg_vocab)))\n",
    "for i, frag1 in tqdm(enumerate(vocab)):\n",
    "    for j, frag2 in enumerate(efg_vocab):\n",
    "        intersection = set(frag1).intersection(set(frag2))\n",
    "        union = set(frag1).union(set(frag2))\n",
    "        jaccard_similarities[i][j] = len(intersection) / len(union)\n",
    "\n",
    "# Compute the minimum Jaccard similarity for each fragment\n",
    "min_similarities = []\n",
    "for i, frag1 in enumerate(vocab):\n",
    "    similarities = []\n",
    "    for j, frag2 in enumerate(efg_vocab):\n",
    "        similarities.append(jaccard_similarities[i][j])\n",
    "    min_similarities.append(max(similarities))\n"
   ]
  },
  {
   "cell_type": "code",
   "execution_count": 17,
   "metadata": {},
   "outputs": [
    {
     "data": {
      "text/html": [
       "<div>\n",
       "<style scoped>\n",
       "    .dataframe tbody tr th:only-of-type {\n",
       "        vertical-align: middle;\n",
       "    }\n",
       "\n",
       "    .dataframe tbody tr th {\n",
       "        vertical-align: top;\n",
       "    }\n",
       "\n",
       "    .dataframe thead th {\n",
       "        text-align: right;\n",
       "    }\n",
       "</style>\n",
       "<table border=\"1\" class=\"dataframe\">\n",
       "  <thead>\n",
       "    <tr style=\"text-align: right;\">\n",
       "      <th></th>\n",
       "      <th>0</th>\n",
       "    </tr>\n",
       "  </thead>\n",
       "  <tbody>\n",
       "    <tr>\n",
       "      <th>count</th>\n",
       "      <td>7946.000000</td>\n",
       "    </tr>\n",
       "    <tr>\n",
       "      <th>mean</th>\n",
       "      <td>0.775121</td>\n",
       "    </tr>\n",
       "    <tr>\n",
       "      <th>std</th>\n",
       "      <td>0.171519</td>\n",
       "    </tr>\n",
       "    <tr>\n",
       "      <th>min</th>\n",
       "      <td>0.200000</td>\n",
       "    </tr>\n",
       "    <tr>\n",
       "      <th>25%</th>\n",
       "      <td>0.666667</td>\n",
       "    </tr>\n",
       "    <tr>\n",
       "      <th>50%</th>\n",
       "      <td>0.777778</td>\n",
       "    </tr>\n",
       "    <tr>\n",
       "      <th>75%</th>\n",
       "      <td>0.909091</td>\n",
       "    </tr>\n",
       "    <tr>\n",
       "      <th>max</th>\n",
       "      <td>1.000000</td>\n",
       "    </tr>\n",
       "  </tbody>\n",
       "</table>\n",
       "</div>"
      ],
      "text/plain": [
       "                 0\n",
       "count  7946.000000\n",
       "mean      0.775121\n",
       "std       0.171519\n",
       "min       0.200000\n",
       "25%       0.666667\n",
       "50%       0.777778\n",
       "75%       0.909091\n",
       "max       1.000000"
      ]
     },
     "execution_count": 17,
     "metadata": {},
     "output_type": "execute_result"
    }
   ],
   "source": [
    "df_describe = pd.DataFrame(min_similarities)\n",
    "df_describe.describe()"
   ]
  },
  {
   "cell_type": "code",
   "execution_count": 18,
   "metadata": {},
   "outputs": [
    {
     "data": {
      "image/png": "[encoded data removed]",
      "text/plain": [
       "<Figure size 432x288 with 1 Axes>"
      ]
     },
     "metadata": {},
     "output_type": "display_data"
    }
   ],
   "source": [
    "# Plot the distribution of minimum similarities\n",
    "#plt.hist(min_similarities)#, bins=np.linspace(0, 1, num=11))\n",
    "sns.histplot(min_similarities, kde=True)\n",
    "plt.xlabel('Maximum Jaccard Similarity')\n",
    "plt.ylabel('Frequency')\n",
    "plt.show()"
   ]
  },
  {
   "cell_type": "code",
   "execution_count": 21,
   "metadata": {},
   "outputs": [
    {
     "name": "stderr",
     "output_type": "stream",
     "text": [
      "7946it [7:31:18,  3.41s/it]\n"
     ]
    },
    {
     "data": {
      "image/png": "[encoded data removed]",
      "text/plain": [
       "<Figure size 432x288 with 1 Axes>"
      ]
     },
     "metadata": {},
     "output_type": "display_data"
    }
   ],
   "source": [
    "import distance\n",
    "import matplotlib.pyplot as plt\n",
    "\n",
    "\n",
    "# Compute the minimum Levenshtein distance for each fragment\n",
    "min_distances = []\n",
    "for i, frag1 in tqdm(enumerate(vocab)):\n",
    "    distances = []\n",
    "    for j, frag2 in enumerate(efg_vocab):\n",
    "        distances.append(distance.levenshtein(frag1, frag2))\n",
    "    min_distances.append(min(distances))\n",
    "\n",
    "# Plot the distribution of minimum distances\n",
    "plt.hist(min_distances, bins=range(max(min_distances)+2))\n",
    "plt.xlabel('Minimum Levenshtein Distance')\n",
    "plt.ylabel('Frequency')\n",
    "plt.show()"
   ]
  },
  {
   "cell_type": "code",
   "execution_count": null,
   "metadata": {},
   "outputs": [],
   "source": [
    "def generate_ngrams(n):\n",
    "    ngrams = []\n",
    "    for smiles in smiles_list: \n",
    "        for j in range(max(1, len(smiles)-n+1)):\n",
    "            ngrams.append(' '.join(smiles[j:j+n]))\n",
    "    return ngrams \n",
    "ngrams = {}\n",
    "for i in range(1, 30): \n",
    "    ngrams[i] = generate_ngrams(i)"
   ]
  },
  {
   "cell_type": "code",
   "execution_count": null,
   "metadata": {},
   "outputs": [],
   "source": [
    "vocab_len = {}\n",
    "for w in vocab: \n",
    "    x = len(w)\n",
    "    if x in vocab_len: \n",
    "        vocab_len[x] += 1\n",
    "    else:\n",
    "        vocab_len[x] = 1"
   ]
  },
  {
   "cell_type": "code",
   "execution_count": null,
   "metadata": {},
   "outputs": [],
   "source": [
    "import random\n",
    "random_vocab = []\n",
    "for length, size in vocab_len.items():\n",
    "    if length in ngrams:\n",
    "        random_vocab.extend(random.sample(ngrams[length], size))"
   ]
  },
  {
   "cell_type": "code",
   "execution_count": null,
   "metadata": {},
   "outputs": [],
   "source": [
    "jaccard_similarities_random = np.zeros((len(random_vocab), len(efg_vocab)))\n",
    "for i, frag1 in enumerate(random_vocab):\n",
    "    for j, frag2 in enumerate(efg_vocab):\n",
    "        intersection = set(frag1).intersection(set(frag2))\n",
    "        union = set(frag1).union(set(frag2))\n",
    "        jaccard_similarities_random[i][j] = len(intersection) / len(union)\n",
    "\n",
    "# Compute the minimum Jaccard similarity for each fragment\n",
    "min_similarities_random = []\n",
    "for i, frag1 in enumerate(random_vocab):\n",
    "    similarities = []\n",
    "    for j, frag2 in enumerate(efg_vocab):\n",
    "        similarities.append(jaccard_similarities_random[i][j])\n",
    "    min_similarities_random.append(max(similarities))"
   ]
  },
  {
   "cell_type": "code",
   "execution_count": null,
   "metadata": {},
   "outputs": [],
   "source": [
    "pd.DataFrame(min_similarities_random).describe()"
   ]
  },
  {
   "cell_type": "code",
   "execution_count": null,
   "metadata": {},
   "outputs": [],
   "source": [
    "# Plot the distribution of minimum similarities\n",
    "#plt.hist(min_similarities)#, bins=np.linspace(0, 1, num=11))\n",
    "df_to_plot = pd.concat([pd.DataFrame(min_similarities_random, columns=['similarity']).assign(vocab='Random'), \n",
    "           pd.DataFrame(min_similarities, columns=['similarity']).assign(vocab='BPE')]).reset_index()\n",
    "sns.displot(data=df_to_plot, x='similarity', hue='vocab', kde=True, fill=True)\n",
    "plt.xlabel('Maximum Jaccard Similarity')\n",
    "plt.ylabel('Frequency')\n",
    "plt.show()"
   ]
  },
  {
   "cell_type": "code",
   "execution_count": null,
   "metadata": {},
   "outputs": [],
   "source": [
    "# min_distances = []\n",
    "# for frag1 in vocab:\n",
    "#     distances = []\n",
    "#     for frag2 in efg_vocab:\n",
    "#         distances.append(distance.levenshtein(frag1, frag2))\n",
    "#     min_distances.append(min(distances))\n",
    "\n",
    "# # Plot the distribution of minimum distances\n",
    "# #plt.hist(min_distances)\n",
    "# sns.histplot(min_distances, kde=True)\n",
    "# plt.xlabel('Minimum Levenshtein Distance')\n",
    "# plt.ylabel('Frequency')\n",
    "# plt.show()"
   ]
  },
  {
   "cell_type": "code",
   "execution_count": null,
   "metadata": {},
   "outputs": [],
   "source": []
  }
 ],
 "metadata": {
  "kernelspec": {
   "display_name": "Python 3",
   "language": "python",
   "name": "python3"
  },
  "language_info": {
   "codemirror_mode": {
    "name": "ipython",
    "version": 3
   },
   "file_extension": ".py",
   "mimetype": "text/x-python",
   "name": "python",
   "nbconvert_exporter": "python",
   "pygments_lexer": "ipython3",
   "version": "3.6.10"
  }
 },
 "nbformat": 4,
 "nbformat_minor": 4
}
